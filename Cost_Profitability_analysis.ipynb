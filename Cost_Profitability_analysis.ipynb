{
 "cells": [
  {
   "cell_type": "markdown",
   "id": "633e3794",
   "metadata": {},
   "source": [
    "# Main Objective\n",
    "> How to perform cost and profitability analysis of a business operation.\n",
    "\n",
    "> **Food Delivery Cost and Profitability Analysis** is a detailed review of how a food delivery service spends and earns money. Its purpose is to find ways to cut unnecessary costs, boost income, and adjust pricing or commission rates so the business can make more profit.\n",
    "\n",
    "> **Food Delivery Cost and Profitability Analysis** is a process of looking at all the expenses involved in delivering food, from direct costs like driver pay, fuel, and packaging to indirect costs like customer discounts and restaurant commissions, and comparing them with the money the service earns from order values, delivery fees, and commissions. \n",
    "\n",
    "> This helps the business see exactly how much profit it makes on each order, spot areas to cut costs, and find ways to adjust pricing or commissions to boost overall profitability.\n",
    "\n",
    "## Case Study:\n",
    "You are a data scientist at a food delivery company that is struggling to turn a profit. The company has provided you with a dataset containing details of 1,000 food orders, including order values, delivery fees, discounts, commissions, and other cost components. Your task is to analyze the cost structure and revenue streams to determine per-order profitability, identify patterns affecting overall margins, and recommend data-driven strategies to improve the company’s financial performance.\n",
    "\n",
    "### Data Understanding\n",
    "1. **Order ID**: A unique code or number for each order.\n",
    "2. **Customer ID**: A unique identifier for each customer.\n",
    "3. **Restaurant ID**: A unique identifier for each restaurant.\n",
    "4. **Order Date and Time**: The exact date and time when the customer placed the order.\n",
    "5. **Delivery Date and Time**: The exact date and time when the order was delivered to the customer.\n",
    "6. **Order Value**: The total price of the food items ordered before adding delivery fees, taxes, or discounts.\n",
    "7. **Delivery Fee**: The amount charged to the customer for delivering the order (sometimes also includes a service charge).\n",
    "8. **Payment Method**: How the customer paid — e.g., credit card, debit card, cash on delivery, digital wallet.\n",
    "9. **Discounts and Offers**: The total value of price reductions applied to the order.\n",
    "10. **Commission Fee**: The percentage or fixed amount the delivery platform takes from the restaurant’s earnings for facilitating the order.\n",
    "11. **Payment Processing Fee**: The fee charged by payment processors.\n",
    "12. **Refunds/Chargebacks**: Money the company returns to the customer because of an issue (wrong order, late delivery, payment dispute, etc.)."
   ]
  },
  {
   "cell_type": "code",
   "execution_count": 33,
   "id": "432df0da",
   "metadata": {},
   "outputs": [],
   "source": [
    "import pandas as pd\n",
    "from datetime import datetime\n",
    "import matplotlib.pyplot as plt"
   ]
  },
  {
   "cell_type": "code",
   "execution_count": 3,
   "id": "18d0091b",
   "metadata": {},
   "outputs": [],
   "source": [
    "dataset = pd.read_csv(\"datasets/food_orders_new_delhi.csv\")"
   ]
  },
  {
   "cell_type": "code",
   "execution_count": 4,
   "id": "d97d1671",
   "metadata": {},
   "outputs": [
    {
     "data": {
      "text/html": [
       "<div>\n",
       "<style scoped>\n",
       "    .dataframe tbody tr th:only-of-type {\n",
       "        vertical-align: middle;\n",
       "    }\n",
       "\n",
       "    .dataframe tbody tr th {\n",
       "        vertical-align: top;\n",
       "    }\n",
       "\n",
       "    .dataframe thead th {\n",
       "        text-align: right;\n",
       "    }\n",
       "</style>\n",
       "<table border=\"1\" class=\"dataframe\">\n",
       "  <thead>\n",
       "    <tr style=\"text-align: right;\">\n",
       "      <th></th>\n",
       "      <th>Order ID</th>\n",
       "      <th>Customer ID</th>\n",
       "      <th>Restaurant ID</th>\n",
       "      <th>Order Date and Time</th>\n",
       "      <th>Delivery Date and Time</th>\n",
       "      <th>Order Value</th>\n",
       "      <th>Delivery Fee</th>\n",
       "      <th>Payment Method</th>\n",
       "      <th>Discounts and Offers</th>\n",
       "      <th>Commission Fee</th>\n",
       "      <th>Payment Processing Fee</th>\n",
       "      <th>Refunds/Chargebacks</th>\n",
       "    </tr>\n",
       "  </thead>\n",
       "  <tbody>\n",
       "    <tr>\n",
       "      <th>0</th>\n",
       "      <td>1</td>\n",
       "      <td>C8270</td>\n",
       "      <td>R2924</td>\n",
       "      <td>2024-02-01 01:11:52</td>\n",
       "      <td>2024-02-01 02:39:52</td>\n",
       "      <td>1914</td>\n",
       "      <td>0</td>\n",
       "      <td>Credit Card</td>\n",
       "      <td>5% on App</td>\n",
       "      <td>150</td>\n",
       "      <td>47</td>\n",
       "      <td>0</td>\n",
       "    </tr>\n",
       "    <tr>\n",
       "      <th>1</th>\n",
       "      <td>2</td>\n",
       "      <td>C1860</td>\n",
       "      <td>R2054</td>\n",
       "      <td>2024-02-02 22:11:04</td>\n",
       "      <td>2024-02-02 22:46:04</td>\n",
       "      <td>986</td>\n",
       "      <td>40</td>\n",
       "      <td>Digital Wallet</td>\n",
       "      <td>10%</td>\n",
       "      <td>198</td>\n",
       "      <td>23</td>\n",
       "      <td>0</td>\n",
       "    </tr>\n",
       "    <tr>\n",
       "      <th>2</th>\n",
       "      <td>3</td>\n",
       "      <td>C6390</td>\n",
       "      <td>R2870</td>\n",
       "      <td>2024-01-31 05:54:35</td>\n",
       "      <td>2024-01-31 06:52:35</td>\n",
       "      <td>937</td>\n",
       "      <td>30</td>\n",
       "      <td>Cash on Delivery</td>\n",
       "      <td>15% New User</td>\n",
       "      <td>195</td>\n",
       "      <td>45</td>\n",
       "      <td>0</td>\n",
       "    </tr>\n",
       "    <tr>\n",
       "      <th>3</th>\n",
       "      <td>4</td>\n",
       "      <td>C6191</td>\n",
       "      <td>R2642</td>\n",
       "      <td>2024-01-16 22:52:49</td>\n",
       "      <td>2024-01-16 23:38:49</td>\n",
       "      <td>1463</td>\n",
       "      <td>50</td>\n",
       "      <td>Cash on Delivery</td>\n",
       "      <td>NaN</td>\n",
       "      <td>146</td>\n",
       "      <td>27</td>\n",
       "      <td>0</td>\n",
       "    </tr>\n",
       "    <tr>\n",
       "      <th>4</th>\n",
       "      <td>5</td>\n",
       "      <td>C6734</td>\n",
       "      <td>R2799</td>\n",
       "      <td>2024-01-29 01:19:30</td>\n",
       "      <td>2024-01-29 02:48:30</td>\n",
       "      <td>1992</td>\n",
       "      <td>30</td>\n",
       "      <td>Cash on Delivery</td>\n",
       "      <td>50 off Promo</td>\n",
       "      <td>130</td>\n",
       "      <td>50</td>\n",
       "      <td>0</td>\n",
       "    </tr>\n",
       "  </tbody>\n",
       "</table>\n",
       "</div>"
      ],
      "text/plain": [
       "   Order ID Customer ID Restaurant ID  Order Date and Time  \\\n",
       "0         1       C8270         R2924  2024-02-01 01:11:52   \n",
       "1         2       C1860         R2054  2024-02-02 22:11:04   \n",
       "2         3       C6390         R2870  2024-01-31 05:54:35   \n",
       "3         4       C6191         R2642  2024-01-16 22:52:49   \n",
       "4         5       C6734         R2799  2024-01-29 01:19:30   \n",
       "\n",
       "  Delivery Date and Time  Order Value  Delivery Fee    Payment Method  \\\n",
       "0    2024-02-01 02:39:52         1914             0       Credit Card   \n",
       "1    2024-02-02 22:46:04          986            40    Digital Wallet   \n",
       "2    2024-01-31 06:52:35          937            30  Cash on Delivery   \n",
       "3    2024-01-16 23:38:49         1463            50  Cash on Delivery   \n",
       "4    2024-01-29 02:48:30         1992            30  Cash on Delivery   \n",
       "\n",
       "  Discounts and Offers  Commission Fee  Payment Processing Fee  \\\n",
       "0            5% on App             150                      47   \n",
       "1                  10%             198                      23   \n",
       "2         15% New User             195                      45   \n",
       "3                  NaN             146                      27   \n",
       "4         50 off Promo             130                      50   \n",
       "\n",
       "   Refunds/Chargebacks  \n",
       "0                    0  \n",
       "1                    0  \n",
       "2                    0  \n",
       "3                    0  \n",
       "4                    0  "
      ]
     },
     "execution_count": 4,
     "metadata": {},
     "output_type": "execute_result"
    }
   ],
   "source": [
    "dataset.head()"
   ]
  },
  {
   "cell_type": "code",
   "execution_count": 5,
   "id": "5b03db5d",
   "metadata": {},
   "outputs": [
    {
     "data": {
      "text/plain": [
       "Order ID                    0\n",
       "Customer ID                 0\n",
       "Restaurant ID               0\n",
       "Order Date and Time         0\n",
       "Delivery Date and Time      0\n",
       "Order Value                 0\n",
       "Delivery Fee                0\n",
       "Payment Method              0\n",
       "Discounts and Offers      185\n",
       "Commission Fee              0\n",
       "Payment Processing Fee      0\n",
       "Refunds/Chargebacks         0\n",
       "dtype: int64"
      ]
     },
     "execution_count": 5,
     "metadata": {},
     "output_type": "execute_result"
    }
   ],
   "source": [
    "dataset.isnull().sum()"
   ]
  },
  {
   "cell_type": "code",
   "execution_count": 6,
   "id": "027a2fdf",
   "metadata": {},
   "outputs": [
    {
     "name": "stdout",
     "output_type": "stream",
     "text": [
      "<class 'pandas.core.frame.DataFrame'>\n",
      "RangeIndex: 1000 entries, 0 to 999\n",
      "Data columns (total 12 columns):\n",
      " #   Column                  Non-Null Count  Dtype \n",
      "---  ------                  --------------  ----- \n",
      " 0   Order ID                1000 non-null   int64 \n",
      " 1   Customer ID             1000 non-null   object\n",
      " 2   Restaurant ID           1000 non-null   object\n",
      " 3   Order Date and Time     1000 non-null   object\n",
      " 4   Delivery Date and Time  1000 non-null   object\n",
      " 5   Order Value             1000 non-null   int64 \n",
      " 6   Delivery Fee            1000 non-null   int64 \n",
      " 7   Payment Method          1000 non-null   object\n",
      " 8   Discounts and Offers    815 non-null    object\n",
      " 9   Commission Fee          1000 non-null   int64 \n",
      " 10  Payment Processing Fee  1000 non-null   int64 \n",
      " 11  Refunds/Chargebacks     1000 non-null   int64 \n",
      "dtypes: int64(6), object(6)\n",
      "memory usage: 93.9+ KB\n"
     ]
    }
   ],
   "source": [
    "dataset.info()"
   ]
  },
  {
   "cell_type": "markdown",
   "id": "1b8e35a6",
   "metadata": {},
   "source": [
    "### Data Preprocessing"
   ]
  },
  {
   "cell_type": "code",
   "execution_count": 7,
   "id": "b14a94de",
   "metadata": {},
   "outputs": [],
   "source": [
    "# Converting 'Time' features from Object Type to Date type.\n",
    "dataset['Delivery Date and Time'] = pd.to_datetime(dataset['Delivery Date and Time'])\n",
    "dataset['Order Date and Time'] = pd.to_datetime(dataset['Order Date and Time'])"
   ]
  },
  {
   "cell_type": "code",
   "execution_count": 8,
   "id": "2eb8cff1",
   "metadata": {},
   "outputs": [],
   "source": [
    "# Discounts and Offers\n",
    "def extract_discounts(discount_str):\n",
    "    try:\n",
    "        if(isinstance(discount_str, str)):\n",
    "            if('%' in discount_str):\n",
    "                return float(discount_str.split(\"%\")[0])\n",
    "            elif('off' in discount_str):\n",
    "                return float(discount_str.split(' ')[0])\n",
    "    except Exception:\n",
    "        pass\n",
    "    \n",
    "    return 0.0 # No Discount"
   ]
  },
  {
   "cell_type": "code",
   "execution_count": 9,
   "id": "af2c2b5e",
   "metadata": {},
   "outputs": [],
   "source": [
    "dataset['Discount Percentage'] = dataset['Discounts and Offers'].apply(lambda x: extract_discounts(x))"
   ]
  },
  {
   "cell_type": "code",
   "execution_count": 10,
   "id": "f4b7cfe1",
   "metadata": {},
   "outputs": [],
   "source": [
    "# Calculating Discount Amount based on 'Order Value' and 'Discount Percentage'\n",
    "dataset['Discount Amount'] = dataset.apply(lambda x: (x['Order Value'] * x['Discount Percentage'] / 100) \n",
    "                                           if x['Discount Percentage'] > 1 \n",
    "                                           else x['Discount Percentage'], axis=1)"
   ]
  },
  {
   "cell_type": "code",
   "execution_count": 11,
   "id": "a2e97d84",
   "metadata": {},
   "outputs": [
    {
     "data": {
      "text/html": [
       "<div>\n",
       "<style scoped>\n",
       "    .dataframe tbody tr th:only-of-type {\n",
       "        vertical-align: middle;\n",
       "    }\n",
       "\n",
       "    .dataframe tbody tr th {\n",
       "        vertical-align: top;\n",
       "    }\n",
       "\n",
       "    .dataframe thead th {\n",
       "        text-align: right;\n",
       "    }\n",
       "</style>\n",
       "<table border=\"1\" class=\"dataframe\">\n",
       "  <thead>\n",
       "    <tr style=\"text-align: right;\">\n",
       "      <th></th>\n",
       "      <th>Order ID</th>\n",
       "      <th>Customer ID</th>\n",
       "      <th>Restaurant ID</th>\n",
       "      <th>Order Date and Time</th>\n",
       "      <th>Delivery Date and Time</th>\n",
       "      <th>Order Value</th>\n",
       "      <th>Delivery Fee</th>\n",
       "      <th>Payment Method</th>\n",
       "      <th>Discounts and Offers</th>\n",
       "      <th>Commission Fee</th>\n",
       "      <th>Payment Processing Fee</th>\n",
       "      <th>Refunds/Chargebacks</th>\n",
       "      <th>Discount Percentage</th>\n",
       "      <th>Discount Amount</th>\n",
       "    </tr>\n",
       "  </thead>\n",
       "  <tbody>\n",
       "    <tr>\n",
       "      <th>0</th>\n",
       "      <td>1</td>\n",
       "      <td>C8270</td>\n",
       "      <td>R2924</td>\n",
       "      <td>2024-02-01 01:11:52</td>\n",
       "      <td>2024-02-01 02:39:52</td>\n",
       "      <td>1914</td>\n",
       "      <td>0</td>\n",
       "      <td>Credit Card</td>\n",
       "      <td>5% on App</td>\n",
       "      <td>150</td>\n",
       "      <td>47</td>\n",
       "      <td>0</td>\n",
       "      <td>5.0</td>\n",
       "      <td>95.70</td>\n",
       "    </tr>\n",
       "    <tr>\n",
       "      <th>1</th>\n",
       "      <td>2</td>\n",
       "      <td>C1860</td>\n",
       "      <td>R2054</td>\n",
       "      <td>2024-02-02 22:11:04</td>\n",
       "      <td>2024-02-02 22:46:04</td>\n",
       "      <td>986</td>\n",
       "      <td>40</td>\n",
       "      <td>Digital Wallet</td>\n",
       "      <td>10%</td>\n",
       "      <td>198</td>\n",
       "      <td>23</td>\n",
       "      <td>0</td>\n",
       "      <td>10.0</td>\n",
       "      <td>98.60</td>\n",
       "    </tr>\n",
       "    <tr>\n",
       "      <th>2</th>\n",
       "      <td>3</td>\n",
       "      <td>C6390</td>\n",
       "      <td>R2870</td>\n",
       "      <td>2024-01-31 05:54:35</td>\n",
       "      <td>2024-01-31 06:52:35</td>\n",
       "      <td>937</td>\n",
       "      <td>30</td>\n",
       "      <td>Cash on Delivery</td>\n",
       "      <td>15% New User</td>\n",
       "      <td>195</td>\n",
       "      <td>45</td>\n",
       "      <td>0</td>\n",
       "      <td>15.0</td>\n",
       "      <td>140.55</td>\n",
       "    </tr>\n",
       "    <tr>\n",
       "      <th>3</th>\n",
       "      <td>4</td>\n",
       "      <td>C6191</td>\n",
       "      <td>R2642</td>\n",
       "      <td>2024-01-16 22:52:49</td>\n",
       "      <td>2024-01-16 23:38:49</td>\n",
       "      <td>1463</td>\n",
       "      <td>50</td>\n",
       "      <td>Cash on Delivery</td>\n",
       "      <td>NaN</td>\n",
       "      <td>146</td>\n",
       "      <td>27</td>\n",
       "      <td>0</td>\n",
       "      <td>0.0</td>\n",
       "      <td>0.00</td>\n",
       "    </tr>\n",
       "    <tr>\n",
       "      <th>4</th>\n",
       "      <td>5</td>\n",
       "      <td>C6734</td>\n",
       "      <td>R2799</td>\n",
       "      <td>2024-01-29 01:19:30</td>\n",
       "      <td>2024-01-29 02:48:30</td>\n",
       "      <td>1992</td>\n",
       "      <td>30</td>\n",
       "      <td>Cash on Delivery</td>\n",
       "      <td>50 off Promo</td>\n",
       "      <td>130</td>\n",
       "      <td>50</td>\n",
       "      <td>0</td>\n",
       "      <td>50.0</td>\n",
       "      <td>996.00</td>\n",
       "    </tr>\n",
       "  </tbody>\n",
       "</table>\n",
       "</div>"
      ],
      "text/plain": [
       "   Order ID Customer ID Restaurant ID Order Date and Time  \\\n",
       "0         1       C8270         R2924 2024-02-01 01:11:52   \n",
       "1         2       C1860         R2054 2024-02-02 22:11:04   \n",
       "2         3       C6390         R2870 2024-01-31 05:54:35   \n",
       "3         4       C6191         R2642 2024-01-16 22:52:49   \n",
       "4         5       C6734         R2799 2024-01-29 01:19:30   \n",
       "\n",
       "  Delivery Date and Time  Order Value  Delivery Fee    Payment Method  \\\n",
       "0    2024-02-01 02:39:52         1914             0       Credit Card   \n",
       "1    2024-02-02 22:46:04          986            40    Digital Wallet   \n",
       "2    2024-01-31 06:52:35          937            30  Cash on Delivery   \n",
       "3    2024-01-16 23:38:49         1463            50  Cash on Delivery   \n",
       "4    2024-01-29 02:48:30         1992            30  Cash on Delivery   \n",
       "\n",
       "  Discounts and Offers  Commission Fee  Payment Processing Fee  \\\n",
       "0            5% on App             150                      47   \n",
       "1                  10%             198                      23   \n",
       "2         15% New User             195                      45   \n",
       "3                  NaN             146                      27   \n",
       "4         50 off Promo             130                      50   \n",
       "\n",
       "   Refunds/Chargebacks  Discount Percentage  Discount Amount  \n",
       "0                    0                  5.0            95.70  \n",
       "1                    0                 10.0            98.60  \n",
       "2                    0                 15.0           140.55  \n",
       "3                    0                  0.0             0.00  \n",
       "4                    0                 50.0           996.00  "
      ]
     },
     "execution_count": 11,
     "metadata": {},
     "output_type": "execute_result"
    }
   ],
   "source": [
    "dataset.head()"
   ]
  },
  {
   "cell_type": "markdown",
   "id": "93bbf610",
   "metadata": {},
   "source": [
    "## Cost and Profitability Analysis\n",
    "### Cost Analysis\n",
    "**Revenue**  → All the money your business earns from sales before subtracting any costs.  \n",
    "Example: If an order costs $30 (food + delivery fee), your revenue is $30.\n",
    "\n",
    "**Cost** → All the money your business spends to provide the service. This includes both:\n",
    "\n",
    "1. **Direct costs** (costs tied directly to fulfilling an order — e.g., delivery driver fee, packaging, payment processor fee).  \n",
    "2. **Indirect costs** (overheads or less directly linked costs — e.g., marketing discounts, refunds).  \n",
    "\n",
    "**Profit** → What’s left after subtracting all costs from revenue. Formula: $\\text{Profit} = \\text{Revenue} - \\text{Total Cost}$\n",
    "\n",
    "## Assumptions for Analysis\n",
    "Since the dataset lacks explicit driver wages, packaging costs, and marketing expenses, we make the following assumptions to create a realistic financial model:  \n",
    "\n",
    "#### Revenue Streams for the Platform\n",
    "1. **Commission Fee** – Main source of revenue from restaurants!  \n",
    "2. **Delivery Fee** (Customer-Paid) – It retained by the platform!\n",
    "\n",
    "#### Costs to the Platform\n",
    "1. **Delivery Cost** - In absence of direct data, we assume **Delivery Cost = 80% of Delivery Fee**  \n",
    "2. **Payment Processing Fee** – Percentage charged by payment gateway (already in dataset).  \n",
    "3. **Discounts and Offers** – We assume it is funded entirely by the platform, counted fully as a cost! (**Discount Amount** calculated already!)  \n",
    "4. **Refunds/Chargebacks** – Full amount treated as a cost.\n",
    "\n",
    "#### Delivery Fee Inspection\n",
    "We are performing **Delivery Fee** inspection because the Delivery Fee is part of the platform’s revenue, but 168 out of 1,000 orders have a fee of zero. Since we cannot confirm the reason with stakeholders, we first explore the data to identify any patterns (e.g., certain restaurants, dates, or promotions) that could explain these missing fees. Based on our findings, we will later make a documented assumption to handle these cases consistently in our profitability analysis."
   ]
  },
  {
   "cell_type": "code",
   "execution_count": 12,
   "id": "17a1b2e4",
   "metadata": {},
   "outputs": [
    {
     "data": {
      "text/plain": [
       "Restaurant ID\n",
       "R2570    3\n",
       "R2343    3\n",
       "R2225    2\n",
       "R2520    2\n",
       "R2915    2\n",
       "R2028    2\n",
       "R2038    2\n",
       "R2591    2\n",
       "R2215    2\n",
       "R2804    2\n",
       "Name: count, dtype: int64"
      ]
     },
     "execution_count": 12,
     "metadata": {},
     "output_type": "execute_result"
    }
   ],
   "source": [
    "# Checking if zero-fee orders are linked to a specific restaurant.\n",
    "dataset[dataset['Delivery Fee'] == 0]['Restaurant ID'].value_counts().head(10)"
   ]
  },
  {
   "cell_type": "code",
   "execution_count": 13,
   "id": "395be0b5",
   "metadata": {},
   "outputs": [
    {
     "data": {
      "text/plain": [
       "Customer ID\n",
       "C7316    2\n",
       "C2365    2\n",
       "C9666    2\n",
       "C8041    2\n",
       "C3832    1\n",
       "Name: count, dtype: int64"
      ]
     },
     "execution_count": 13,
     "metadata": {},
     "output_type": "execute_result"
    }
   ],
   "source": [
    "# Checking if zero-fee orders are linked to a specific customer!\n",
    "dataset[dataset['Delivery Fee'] == 0]['Customer ID'].value_counts().head()"
   ]
  },
  {
   "cell_type": "code",
   "execution_count": 14,
   "id": "adb33efe",
   "metadata": {},
   "outputs": [
    {
     "data": {
      "text/plain": [
       "Order Date and Time\n",
       "2024-01-16    10\n",
       "2024-01-13     8\n",
       "2024-01-23     7\n",
       "2024-02-07     7\n",
       "2024-02-01     7\n",
       "2024-02-03     7\n",
       "2024-01-01     7\n",
       "2024-01-30     6\n",
       "2024-01-11     6\n",
       "2024-01-12     6\n",
       "Name: count, dtype: int64"
      ]
     },
     "execution_count": 14,
     "metadata": {},
     "output_type": "execute_result"
    }
   ],
   "source": [
    "# Checking if zero-fee orders are linked to a specific date ramge!\n",
    "dataset[dataset['Delivery Fee'] == 0]['Order Date and Time'].dt.date.value_counts().head(10)"
   ]
  },
  {
   "cell_type": "code",
   "execution_count": 15,
   "id": "11146bdd",
   "metadata": {},
   "outputs": [
    {
     "data": {
      "text/html": [
       "<div>\n",
       "<style scoped>\n",
       "    .dataframe tbody tr th:only-of-type {\n",
       "        vertical-align: middle;\n",
       "    }\n",
       "\n",
       "    .dataframe tbody tr th {\n",
       "        vertical-align: top;\n",
       "    }\n",
       "\n",
       "    .dataframe thead th {\n",
       "        text-align: right;\n",
       "    }\n",
       "</style>\n",
       "<table border=\"1\" class=\"dataframe\">\n",
       "  <thead>\n",
       "    <tr style=\"text-align: right;\">\n",
       "      <th></th>\n",
       "      <th>count</th>\n",
       "      <th>mean</th>\n",
       "      <th>std</th>\n",
       "      <th>min</th>\n",
       "      <th>25%</th>\n",
       "      <th>50%</th>\n",
       "      <th>75%</th>\n",
       "      <th>max</th>\n",
       "    </tr>\n",
       "    <tr>\n",
       "      <th>Delivery Fee</th>\n",
       "      <th></th>\n",
       "      <th></th>\n",
       "      <th></th>\n",
       "      <th></th>\n",
       "      <th></th>\n",
       "      <th></th>\n",
       "      <th></th>\n",
       "      <th></th>\n",
       "    </tr>\n",
       "  </thead>\n",
       "  <tbody>\n",
       "    <tr>\n",
       "      <th>False</th>\n",
       "      <td>814.0</td>\n",
       "      <td>73.792383</td>\n",
       "      <td>25.997490</td>\n",
       "      <td>30.0</td>\n",
       "      <td>51.0</td>\n",
       "      <td>74.0</td>\n",
       "      <td>96.0</td>\n",
       "      <td>119.0</td>\n",
       "    </tr>\n",
       "    <tr>\n",
       "      <th>True</th>\n",
       "      <td>186.0</td>\n",
       "      <td>72.623656</td>\n",
       "      <td>26.141161</td>\n",
       "      <td>30.0</td>\n",
       "      <td>48.0</td>\n",
       "      <td>73.0</td>\n",
       "      <td>94.0</td>\n",
       "      <td>118.0</td>\n",
       "    </tr>\n",
       "  </tbody>\n",
       "</table>\n",
       "</div>"
      ],
      "text/plain": [
       "              count       mean        std   min   25%   50%   75%    max\n",
       "Delivery Fee                                                            \n",
       "False         814.0  73.792383  25.997490  30.0  51.0  74.0  96.0  119.0\n",
       "True          186.0  72.623656  26.141161  30.0  48.0  73.0  94.0  118.0"
      ]
     },
     "execution_count": 15,
     "metadata": {},
     "output_type": "execute_result"
    }
   ],
   "source": [
    "# Checking delivery times\n",
    "dataset['Delivery Time (mins)'] = (dataset['Delivery Date and Time'] - dataset['Order Date and Time']).dt.total_seconds() / 60\n",
    "dataset.groupby(dataset['Delivery Fee'] == 0)['Delivery Time (mins)'].describe()"
   ]
  },
  {
   "cell_type": "markdown",
   "id": "a2cc97e9",
   "metadata": {},
   "source": [
    "##### Summary of Findings\n",
    "1. **Not tied to specific restaurants** → So, not restaurant-sponsored free delivery!  \n",
    "2. **Not tied to specific customers** → Not a loyalty perk or individual promotion!  \n",
    "3. **Somewhat clustered by date** → Could indicate general promotional campaigns (e.g., “Free Delivery Weekend”)!  \n",
    "4. **Delivery times are similar** → Suggests these orders were indeed delivered, not picked up!\n",
    "\n",
    "##### Given that:\n",
    "\n",
    "1. These orders appear to be actual deliveries, and\n",
    "2. The platform earned no delivery fee from the customer, and\n",
    "3. We have no evidence that restaurants or customers paid for delivery elsewhere...\n",
    "\n",
    "> We assume that the platform paid for delivery out of pocket as part of a promotion.\n",
    "\n",
    "**In other words**:  \n",
    "\n",
    "**💡 Assumption**: Orders with a delivery fee of 0 were part of platform-funded free delivery promotions. The company still paid the driver, but did not earn any delivery fee from the customer. Therefore, a delivery cost is still incurred."
   ]
  },
  {
   "cell_type": "markdown",
   "id": "e9a28bdb",
   "metadata": {},
   "source": [
    "### Calculating Key Metrics\n",
    "##### Calculate Total Cost Per Order\n",
    "We use 80% of the actual delivery fee if it's greater than 0, otherwise estimate using the average paid delivery fee!"
   ]
  },
  {
   "cell_type": "code",
   "execution_count": 16,
   "id": "6ea5ae36",
   "metadata": {},
   "outputs": [],
   "source": [
    "# Average delivery fee from paid orders\n",
    "avg_fee = dataset[dataset['Delivery Fee'] > 0]['Delivery Fee'].mean()\n",
    "\n",
    "# Adjusted Delivery Cost (80% of actual or average)\n",
    "dataset['Delivery Cost'] = dataset['Delivery Fee'].apply(\n",
    "    lambda x: 0.8 * x if x > 0 else 0.8 * avg_fee\n",
    ")"
   ]
  },
  {
   "cell_type": "code",
   "execution_count": 17,
   "id": "97705a7a",
   "metadata": {},
   "outputs": [],
   "source": [
    "# Total Cost Per Order\n",
    "dataset['Total Cost Per Order'] = (\n",
    "    dataset['Delivery Cost'] +\n",
    "    dataset['Payment Processing Fee'] +\n",
    "    dataset['Discount Amount'] +\n",
    "    dataset['Refunds/Chargebacks']\n",
    ")"
   ]
  },
  {
   "cell_type": "markdown",
   "id": "1cddb78b",
   "metadata": {},
   "source": [
    "##### Calculate Total Revenue Per Order"
   ]
  },
  {
   "cell_type": "code",
   "execution_count": 19,
   "id": "7462a6df",
   "metadata": {},
   "outputs": [],
   "source": [
    "dataset['Delivery Revenue'] = dataset['Delivery Fee'] * 0.2"
   ]
  },
  {
   "cell_type": "code",
   "execution_count": 21,
   "id": "a6a623c9",
   "metadata": {},
   "outputs": [],
   "source": [
    "dataset['Total Revenue Per Order'] = (\n",
    "    dataset['Commission Fee'] + dataset['Delivery Revenue']\n",
    ")"
   ]
  },
  {
   "cell_type": "markdown",
   "id": "bb34adbb",
   "metadata": {},
   "source": [
    "##### Calculating Total Profit Per Order"
   ]
  },
  {
   "cell_type": "code",
   "execution_count": 23,
   "id": "328c0189",
   "metadata": {},
   "outputs": [],
   "source": [
    "dataset['Profit Per Order'] = (\n",
    "    dataset['Total Revenue Per Order'] - dataset['Total Cost Per Order']\n",
    ")"
   ]
  },
  {
   "cell_type": "markdown",
   "id": "c6254ca2",
   "metadata": {},
   "source": [
    "### Exploratory Data Analysis\n",
    "#### Is the company generating a net profit or net loss across all orders?\n",
    "(**Net** refers to the final amount after all **revenues** and **expenses** have been accounted for)!  \n",
    "1. **Net Profit**: $\\text{Total Revenue} - \\text{Total Cost}$  \n",
    "2. If the result is **positive**, the company made a **net profit**.  \n",
    "2. If the result is **negative**, the company incurred a **net loss**."
   ]
  },
  {
   "cell_type": "code",
   "execution_count": 28,
   "id": "06babb8d",
   "metadata": {},
   "outputs": [],
   "source": [
    "totalRevenue = dataset['Total Revenue Per Order'].sum()\n",
    "\n",
    "totalCost = dataset['Total Cost Per Order'].sum()\n",
    "\n",
    "netProfit = totalRevenue - totalCost"
   ]
  },
  {
   "cell_type": "code",
   "execution_count": 31,
   "id": "dee7d8d4",
   "metadata": {},
   "outputs": [
    {
     "name": "stdout",
     "output_type": "stream",
     "text": [
      "Total Revenue: 132714.0\n",
      "Total Cost: 260517.61412776413\n",
      "Net Profit/Loss: -127803.61412776413\n",
      "❌ The company is operating at a net loss. -127803.61412776413\n"
     ]
    }
   ],
   "source": [
    "print(f\"Total Revenue: {totalRevenue}\")\n",
    "print(f\"Total Cost: {totalCost}\")\n",
    "print(f\"Net Profit/Loss: {netProfit}\")\n",
    "\n",
    "if netProfit > 0:\n",
    "    print(f\"✅ The company is generating a net profit. {netProfit}\")\n",
    "elif netProfit < 0:\n",
    "    print(f\"❌ The company is operating at a net loss. {netProfit}\")\n",
    "else:\n",
    "    print(f\"⚖️ The company is breaking even. {netProfit}\")"
   ]
  },
  {
   "cell_type": "code",
   "execution_count": 34,
   "id": "5ee70bad",
   "metadata": {},
   "outputs": [
    {
     "data": {
      "image/png": "[encoded data removed]",
      "text/plain": [
       "<Figure size 800x500 with 1 Axes>"
      ]
     },
     "metadata": {},
     "output_type": "display_data"
    }
   ],
   "source": [
    "# Visualizing Total Revenue vs. Total Cost with Bar Plot.\n",
    "plt.figure(figsize=(8, 5))\n",
    "plt.bar(['Total Revenue', 'Total Cost'], [totalRevenue, totalCost], color=['green', 'red'])\n",
    "plt.title('Total Revenue vs. Total Cost')\n",
    "plt.ylabel('Amount ($)')\n",
    "plt.grid(axis='y', linestyle='--', alpha=0.7)\n",
    "plt.tight_layout()\n",
    "plt.show()"
   ]
  },
  {
   "cell_type": "code",
   "execution_count": 38,
   "id": "e4a0a9d3",
   "metadata": {},
   "outputs": [
    {
     "data": {
      "image/png": "[encoded data removed]",
      "text/plain": [
       "<Figure size 1000x500 with 1 Axes>"
      ]
     },
     "metadata": {},
     "output_type": "display_data"
    }
   ],
   "source": [
    "# Profit per order distribution (Histogram)\n",
    "plt.figure(figsize=(10, 5))\n",
    "plt.hist(dataset['Profit Per Order'], bins=30, color='skyblue', edgecolor='black')\n",
    "plt.title('Distribution of Profit Per Order')\n",
    "plt.xlabel('Profit Per Order ($)')\n",
    "plt.ylabel('Number of Orders')\n",
    "plt.grid(True, linestyle='--', alpha=0.6)\n",
    "plt.tight_layout()\n",
    "plt.axvline(dataset['Profit Per Order'].mean(), color='red', linestyle='dashed', linewidth=3)\n",
    "plt.show()"
   ]
  },
  {
   "cell_type": "markdown",
   "id": "61fa2a92",
   "metadata": {},
   "source": [
    "1. **Left Skewed**: Most orders are clustered around negative profits, with only a small tail of orders making a profit. This suggests that loss-making orders dominate the dataset!  \n",
    "2. **Red Dashed Line**: It shows the average profit per order. It is **below zero**, confirming that the company is losing money on most orders! (Even though a few orders are profitable, they’re not enough to offset the widespread losses)!\n",
    "3. Some orders lose a lot, some lose a little, and a few make money!  \n"
   ]
  }
 ],
 "metadata": {
  "kernelspec": {
   "display_name": "Python 3",
   "language": "python",
   "name": "python3"
  },
  "language_info": {
   "codemirror_mode": {
    "name": "ipython",
    "version": 3
   },
   "file_extension": ".py",
   "mimetype": "text/x-python",
   "name": "python",
   "nbconvert_exporter": "python",
   "pygments_lexer": "ipython3",
   "version": "3.12.2"
  }
 },
 "nbformat": 4,
 "nbformat_minor": 5
}
