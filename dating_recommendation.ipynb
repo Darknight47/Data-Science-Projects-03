{
 "cells": [
  {
   "cell_type": "markdown",
   "metadata": {},
   "source": [
    "## Main Goal\n",
    "Building a personalized dating recommendation system to facilitate meaningful connections!\n",
    "\n",
    "### Data Understanding\n",
    "The dataset consists of the following columns:\n",
    "\n",
    "1. **User ID**: A unique identifier for each user.\n",
    "2. **Age**: The age of the user.\n",
    "3. **Gender**: The gender of the user (e.g., Male, Female).\n",
    "4. **Height**: The height of the user.\n",
    "5. **Interests**: A list of interests or hobbies expressed by the user.\n",
    "6. **Looking For**: The user’s dating preferences, such as “Long-term Relationship,” “Marriage,” etc.\n",
    "7. **Children**: Indicates whether the user has children (“Yes,” “No,” “Maybe”).\n",
    "8. **Education Level**: The user’s highest education level.\n",
    "9. **Occupation**: The user’s current occupation.\n",
    "10. **Swiping History**: A numerical score representing the user’s interactions (e.g., likes/dislikes) with other profiles.\n",
    "11. **Frequency of Usage**: How often the user engages with the dating app (e.g., “Daily,” “Monthly”)."
   ]
  },
  {
   "cell_type": "code",
   "execution_count": 1,
   "metadata": {},
   "outputs": [],
   "source": [
    "import pandas as pd"
   ]
  },
  {
   "cell_type": "code",
   "execution_count": 2,
   "metadata": {},
   "outputs": [],
   "source": [
    "dataset = pd.read_csv(\"datasets/dating_app_dataset.csv\")"
   ]
  },
  {
   "cell_type": "code",
   "execution_count": 3,
   "metadata": {},
   "outputs": [
    {
     "data": {
      "text/html": [
       "<div>\n",
       "<style scoped>\n",
       "    .dataframe tbody tr th:only-of-type {\n",
       "        vertical-align: middle;\n",
       "    }\n",
       "\n",
       "    .dataframe tbody tr th {\n",
       "        vertical-align: top;\n",
       "    }\n",
       "\n",
       "    .dataframe thead th {\n",
       "        text-align: right;\n",
       "    }\n",
       "</style>\n",
       "<table border=\"1\" class=\"dataframe\">\n",
       "  <thead>\n",
       "    <tr style=\"text-align: right;\">\n",
       "      <th></th>\n",
       "      <th>User ID</th>\n",
       "      <th>Age</th>\n",
       "      <th>Gender</th>\n",
       "      <th>Height</th>\n",
       "      <th>Interests</th>\n",
       "      <th>Looking For</th>\n",
       "      <th>Children</th>\n",
       "      <th>Education Level</th>\n",
       "      <th>Occupation</th>\n",
       "      <th>Swiping History</th>\n",
       "      <th>Frequency of Usage</th>\n",
       "    </tr>\n",
       "  </thead>\n",
       "  <tbody>\n",
       "    <tr>\n",
       "      <th>0</th>\n",
       "      <td>1</td>\n",
       "      <td>30</td>\n",
       "      <td>Male</td>\n",
       "      <td>5.240385</td>\n",
       "      <td>['Sports', 'Cooking', 'Hiking', 'Music', 'Movi...</td>\n",
       "      <td>Casual Dating</td>\n",
       "      <td>No</td>\n",
       "      <td>High School</td>\n",
       "      <td>Student</td>\n",
       "      <td>96</td>\n",
       "      <td>Weekly</td>\n",
       "    </tr>\n",
       "    <tr>\n",
       "      <th>1</th>\n",
       "      <td>2</td>\n",
       "      <td>27</td>\n",
       "      <td>Female</td>\n",
       "      <td>4.937625</td>\n",
       "      <td>['Sports', 'Reading']</td>\n",
       "      <td>Friendship</td>\n",
       "      <td>Yes</td>\n",
       "      <td>Master's Degree</td>\n",
       "      <td>Artist</td>\n",
       "      <td>96</td>\n",
       "      <td>Monthly</td>\n",
       "    </tr>\n",
       "    <tr>\n",
       "      <th>2</th>\n",
       "      <td>3</td>\n",
       "      <td>29</td>\n",
       "      <td>Female</td>\n",
       "      <td>5.806296</td>\n",
       "      <td>['Sports']</td>\n",
       "      <td>Casual Dating</td>\n",
       "      <td>No</td>\n",
       "      <td>Bachelor's Degree</td>\n",
       "      <td>Social Media Influencer</td>\n",
       "      <td>64</td>\n",
       "      <td>Daily</td>\n",
       "    </tr>\n",
       "    <tr>\n",
       "      <th>3</th>\n",
       "      <td>4</td>\n",
       "      <td>29</td>\n",
       "      <td>Female</td>\n",
       "      <td>5.101402</td>\n",
       "      <td>['Reading']</td>\n",
       "      <td>Marriage</td>\n",
       "      <td>No</td>\n",
       "      <td>Ph.D.</td>\n",
       "      <td>Doctor</td>\n",
       "      <td>67</td>\n",
       "      <td>Daily</td>\n",
       "    </tr>\n",
       "    <tr>\n",
       "      <th>4</th>\n",
       "      <td>5</td>\n",
       "      <td>32</td>\n",
       "      <td>Male</td>\n",
       "      <td>5.986670</td>\n",
       "      <td>['Sports', 'Hiking', 'Music', 'Movies', 'Readi...</td>\n",
       "      <td>Long-term Relationship</td>\n",
       "      <td>Yes</td>\n",
       "      <td>Ph.D.</td>\n",
       "      <td>Engineer</td>\n",
       "      <td>93</td>\n",
       "      <td>Monthly</td>\n",
       "    </tr>\n",
       "  </tbody>\n",
       "</table>\n",
       "</div>"
      ],
      "text/plain": [
       "   User ID  Age  Gender    Height  \\\n",
       "0        1   30    Male  5.240385   \n",
       "1        2   27  Female  4.937625   \n",
       "2        3   29  Female  5.806296   \n",
       "3        4   29  Female  5.101402   \n",
       "4        5   32    Male  5.986670   \n",
       "\n",
       "                                           Interests             Looking For  \\\n",
       "0  ['Sports', 'Cooking', 'Hiking', 'Music', 'Movi...           Casual Dating   \n",
       "1                              ['Sports', 'Reading']              Friendship   \n",
       "2                                         ['Sports']           Casual Dating   \n",
       "3                                        ['Reading']                Marriage   \n",
       "4  ['Sports', 'Hiking', 'Music', 'Movies', 'Readi...  Long-term Relationship   \n",
       "\n",
       "  Children    Education Level               Occupation  Swiping History  \\\n",
       "0       No        High School                  Student               96   \n",
       "1      Yes    Master's Degree                   Artist               96   \n",
       "2       No  Bachelor's Degree  Social Media Influencer               64   \n",
       "3       No              Ph.D.                   Doctor               67   \n",
       "4      Yes              Ph.D.                 Engineer               93   \n",
       "\n",
       "  Frequency of Usage  \n",
       "0             Weekly  \n",
       "1            Monthly  \n",
       "2              Daily  \n",
       "3              Daily  \n",
       "4            Monthly  "
      ]
     },
     "execution_count": 3,
     "metadata": {},
     "output_type": "execute_result"
    }
   ],
   "source": [
    "dataset.head()"
   ]
  },
  {
   "cell_type": "code",
   "execution_count": 4,
   "metadata": {},
   "outputs": [
    {
     "name": "stdout",
     "output_type": "stream",
     "text": [
      "<class 'pandas.core.frame.DataFrame'>\n",
      "RangeIndex: 500 entries, 0 to 499\n",
      "Data columns (total 11 columns):\n",
      " #   Column              Non-Null Count  Dtype  \n",
      "---  ------              --------------  -----  \n",
      " 0   User ID             500 non-null    int64  \n",
      " 1   Age                 500 non-null    int64  \n",
      " 2   Gender              500 non-null    object \n",
      " 3   Height              500 non-null    float64\n",
      " 4   Interests           500 non-null    object \n",
      " 5   Looking For         500 non-null    object \n",
      " 6   Children            500 non-null    object \n",
      " 7   Education Level     500 non-null    object \n",
      " 8   Occupation          500 non-null    object \n",
      " 9   Swiping History     500 non-null    int64  \n",
      " 10  Frequency of Usage  500 non-null    object \n",
      "dtypes: float64(1), int64(3), object(7)\n",
      "memory usage: 43.1+ KB\n"
     ]
    }
   ],
   "source": [
    "dataset.info()"
   ]
  },
  {
   "cell_type": "code",
   "execution_count": 5,
   "metadata": {},
   "outputs": [
    {
     "data": {
      "text/plain": [
       "User ID               0\n",
       "Age                   0\n",
       "Gender                0\n",
       "Height                0\n",
       "Interests             0\n",
       "Looking For           0\n",
       "Children              0\n",
       "Education Level       0\n",
       "Occupation            0\n",
       "Swiping History       0\n",
       "Frequency of Usage    0\n",
       "dtype: int64"
      ]
     },
     "execution_count": 5,
     "metadata": {},
     "output_type": "execute_result"
    }
   ],
   "source": [
    "dataset.isnull().sum()"
   ]
  },
  {
   "cell_type": "markdown",
   "metadata": {},
   "source": []
  }
 ],
 "metadata": {
  "kernelspec": {
   "display_name": "Python 3",
   "language": "python",
   "name": "python3"
  },
  "language_info": {
   "codemirror_mode": {
    "name": "ipython",
    "version": 3
   },
   "file_extension": ".py",
   "mimetype": "text/x-python",
   "name": "python",
   "nbconvert_exporter": "python",
   "pygments_lexer": "ipython3",
   "version": "3.12.2"
  }
 },
 "nbformat": 4,
 "nbformat_minor": 2
}
