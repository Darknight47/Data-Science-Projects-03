{
 "cells": [
  {
   "cell_type": "markdown",
   "id": "afb48c92",
   "metadata": {},
   "source": [
    "## Main Objective\n",
    "The main objective is to develop a Book Recommendation System based on ratings and content information.  \n",
    "A Book Recommendation System is a data-driven application that suggests books to users based on their preferences and behaviour.   \n",
    "It aims to enhance user experience by providing personalized book recommendations, thereby increasing user engagement and satisfaction.   \n",
    "\n",
    "### Data Understanding\n",
    "The dataset has the following features:\n",
    "1. **bookID**: A unique identifier for each book.\n",
    "2. **title**: The title of the book.\n",
    "3. **authors**: The author(s) of the book.\n",
    "4. **average_rating**: The average rating of the book, indicating user satisfaction with the book."
   ]
  },
  {
   "cell_type": "code",
   "execution_count": null,
   "id": "81e9d13d",
   "metadata": {},
   "outputs": [],
   "source": [
    "import pandas as pd\n",
    "import matplotlib.pyplot as plt\n",
    "import seaborn as sns\n",
    "import re\n",
    "from collections import Counter\n",
    "import nltk\n",
    "from nltk.corpus import stopwords\n",
    "\n",
    "# Download stopwords\n",
    "nltk.download('stopwords')\n",
    "stop_words = set(stopwords.words('english'))"
   ]
  },
  {
   "cell_type": "code",
   "execution_count": 4,
   "id": "5f1e1a91",
   "metadata": {},
   "outputs": [],
   "source": [
    "dataset = pd.read_csv(\"datasets/books_data.csv\")"
   ]
  },
  {
   "cell_type": "code",
   "execution_count": 5,
   "id": "acaecfcb",
   "metadata": {},
   "outputs": [
    {
     "data": {
      "text/html": [
       "<div>\n",
       "<style scoped>\n",
       "    .dataframe tbody tr th:only-of-type {\n",
       "        vertical-align: middle;\n",
       "    }\n",
       "\n",
       "    .dataframe tbody tr th {\n",
       "        vertical-align: top;\n",
       "    }\n",
       "\n",
       "    .dataframe thead th {\n",
       "        text-align: right;\n",
       "    }\n",
       "</style>\n",
       "<table border=\"1\" class=\"dataframe\">\n",
       "  <thead>\n",
       "    <tr style=\"text-align: right;\">\n",
       "      <th></th>\n",
       "      <th>bookID</th>\n",
       "      <th>title</th>\n",
       "      <th>authors</th>\n",
       "      <th>average_rating</th>\n",
       "    </tr>\n",
       "  </thead>\n",
       "  <tbody>\n",
       "    <tr>\n",
       "      <th>0</th>\n",
       "      <td>1</td>\n",
       "      <td>Harry Potter and the Half-Blood Prince (Harry ...</td>\n",
       "      <td>J.K. Rowling/Mary GrandPré</td>\n",
       "      <td>4.57</td>\n",
       "    </tr>\n",
       "    <tr>\n",
       "      <th>1</th>\n",
       "      <td>2</td>\n",
       "      <td>Harry Potter and the Order of the Phoenix (Har...</td>\n",
       "      <td>J.K. Rowling/Mary GrandPré</td>\n",
       "      <td>4.49</td>\n",
       "    </tr>\n",
       "    <tr>\n",
       "      <th>2</th>\n",
       "      <td>4</td>\n",
       "      <td>Harry Potter and the Chamber of Secrets (Harry...</td>\n",
       "      <td>J.K. Rowling</td>\n",
       "      <td>4.42</td>\n",
       "    </tr>\n",
       "    <tr>\n",
       "      <th>3</th>\n",
       "      <td>5</td>\n",
       "      <td>Harry Potter and the Prisoner of Azkaban (Harr...</td>\n",
       "      <td>J.K. Rowling/Mary GrandPré</td>\n",
       "      <td>4.56</td>\n",
       "    </tr>\n",
       "    <tr>\n",
       "      <th>4</th>\n",
       "      <td>8</td>\n",
       "      <td>Harry Potter Boxed Set  Books 1-5 (Harry Potte...</td>\n",
       "      <td>J.K. Rowling/Mary GrandPré</td>\n",
       "      <td>4.78</td>\n",
       "    </tr>\n",
       "  </tbody>\n",
       "</table>\n",
       "</div>"
      ],
      "text/plain": [
       "   bookID                                              title  \\\n",
       "0       1  Harry Potter and the Half-Blood Prince (Harry ...   \n",
       "1       2  Harry Potter and the Order of the Phoenix (Har...   \n",
       "2       4  Harry Potter and the Chamber of Secrets (Harry...   \n",
       "3       5  Harry Potter and the Prisoner of Azkaban (Harr...   \n",
       "4       8  Harry Potter Boxed Set  Books 1-5 (Harry Potte...   \n",
       "\n",
       "                      authors average_rating  \n",
       "0  J.K. Rowling/Mary GrandPré           4.57  \n",
       "1  J.K. Rowling/Mary GrandPré           4.49  \n",
       "2                J.K. Rowling           4.42  \n",
       "3  J.K. Rowling/Mary GrandPré           4.56  \n",
       "4  J.K. Rowling/Mary GrandPré           4.78  "
      ]
     },
     "execution_count": 5,
     "metadata": {},
     "output_type": "execute_result"
    }
   ],
   "source": [
    "dataset.head()"
   ]
  },
  {
   "cell_type": "code",
   "execution_count": 6,
   "id": "32dde642",
   "metadata": {},
   "outputs": [
    {
     "data": {
      "text/plain": [
       "bookID            0\n",
       "title             0\n",
       "authors           0\n",
       "average_rating    0\n",
       "dtype: int64"
      ]
     },
     "execution_count": 6,
     "metadata": {},
     "output_type": "execute_result"
    }
   ],
   "source": [
    "dataset.isnull().sum()"
   ]
  },
  {
   "cell_type": "code",
   "execution_count": 7,
   "id": "76e7e247",
   "metadata": {},
   "outputs": [
    {
     "data": {
      "text/plain": [
       "(11127, 4)"
      ]
     },
     "execution_count": 7,
     "metadata": {},
     "output_type": "execute_result"
    }
   ],
   "source": [
    "dataset.shape"
   ]
  },
  {
   "cell_type": "code",
   "execution_count": 28,
   "id": "8b11adb0",
   "metadata": {},
   "outputs": [
    {
     "name": "stdout",
     "output_type": "stream",
     "text": [
      "<class 'pandas.core.frame.DataFrame'>\n",
      "RangeIndex: 11127 entries, 0 to 11126\n",
      "Data columns (total 4 columns):\n",
      " #   Column          Non-Null Count  Dtype \n",
      "---  ------          --------------  ----- \n",
      " 0   bookID          11127 non-null  int64 \n",
      " 1   title           11127 non-null  object\n",
      " 2   authors         11127 non-null  object\n",
      " 3   average_rating  11127 non-null  object\n",
      "dtypes: int64(1), object(3)\n",
      "memory usage: 347.8+ KB\n"
     ]
    }
   ],
   "source": [
    "dataset.info()"
   ]
  },
  {
   "cell_type": "code",
   "execution_count": 29,
   "id": "4a30adc8",
   "metadata": {},
   "outputs": [],
   "source": [
    "# Convert 'average_rating' to a numeric data type\n",
    "dataset['average_rating'] = pd.to_numeric(dataset['average_rating'], errors='coerce')"
   ]
  },
  {
   "cell_type": "code",
   "execution_count": 32,
   "id": "f940ace0",
   "metadata": {},
   "outputs": [],
   "source": [
    "# Keep only rows where 'average_rating' contains valid numeric values\n",
    "df_cleaned = dataset[dataset['average_rating'].apply(lambda x: str(x).replace('.', '', 1).isdigit())]"
   ]
  },
  {
   "cell_type": "markdown",
   "id": "7258111d",
   "metadata": {},
   "source": [
    "### Exploratory Data Analysis\n",
    "#### How is the overall distribution of average ratings across all books?"
   ]
  },
  {
   "cell_type": "code",
   "execution_count": 35,
   "id": "de7c8201",
   "metadata": {},
   "outputs": [
    {
     "data": {
      "image/png": "[encoded data removed]",
      "text/plain": [
       "<Figure size 800x400 with 1 Axes>"
      ]
     },
     "metadata": {},
     "output_type": "display_data"
    }
   ],
   "source": [
    "plt.figure(figsize=(8, 4))\n",
    "sns.histplot(df_cleaned['average_rating'], bins=30, kde=True, color='skyblue')\n",
    "plt.xlabel('Average Rating')\n",
    "plt.ylabel('Count')\n",
    "plt.title('Distribution of Average Ratings')\n",
    "plt.show()"
   ]
  },
  {
   "cell_type": "code",
   "execution_count": 36,
   "id": "eb1ab69a",
   "metadata": {},
   "outputs": [
    {
     "data": {
      "image/png": "[encoded data removed]",
      "text/plain": [
       "<Figure size 600x400 with 1 Axes>"
      ]
     },
     "metadata": {},
     "output_type": "display_data"
    }
   ],
   "source": [
    "# Box plot\n",
    "plt.figure(figsize=(6, 4))\n",
    "sns.boxplot(x=df_cleaned['average_rating'], color='lightcoral')\n",
    "plt.xlabel(\"Average Rating\")\n",
    "plt.title(\"Box Plot of Average Ratings\")\n",
    "plt.show()"
   ]
  },
  {
   "cell_type": "markdown",
   "id": "dfbe2fd4",
   "metadata": {},
   "source": [
    "> TThe left skew suggests that fewer books received extremely low ratings (0–2.5), implying that users tend to rate books positively more often than negatively. This can indicate a bias in user ratings, people who dislike a book might not rate it at all.  \n",
    "Outliers from 0 to 3 may represent books with low popularity, controversial books, or books with fewer reviews. Since the range from 4.6 to 5 contains outliers, it means a small group of books is consistently rated highly, which could be useful for identifying top recommendations.\n",
    "\n",
    "#### Which books stand out as exceptionally high or low in rating, and what unique characteristics (e.g., title patterns or specific authors) do they share?"
   ]
  },
  {
   "cell_type": "code",
   "execution_count": 37,
   "id": "f465b726",
   "metadata": {},
   "outputs": [],
   "source": [
    "# Find max and min rating values\n",
    "max_rating = df_cleaned[\"average_rating\"].max()\n",
    "min_rating = df_cleaned[\"average_rating\"].min()\n",
    "\n",
    "# Get all books with the highest rating\n",
    "highest_rated_books = df_cleaned[df_cleaned[\"average_rating\"] == max_rating]\n",
    "\n",
    "# Get all books with the lowest rating\n",
    "lowest_rated_books = df_cleaned[df_cleaned[\"average_rating\"] == min_rating]"
   ]
  },
  {
   "cell_type": "code",
   "execution_count": 38,
   "id": "b604f936",
   "metadata": {},
   "outputs": [
    {
     "name": "stdout",
     "output_type": "stream",
     "text": [
      "Number of books with highest rating 5.0 is: 22\n",
      "Number of books with lowest rating 0.0 is: 25\n"
     ]
    }
   ],
   "source": [
    "print(f\"Number of books with highest rating {max_rating} is: {highest_rated_books.shape[0]}\")\n",
    "print(f\"Number of books with lowest rating {min_rating} is: {lowest_rated_books.shape[0]}\")"
   ]
  },
  {
   "cell_type": "code",
   "execution_count": 39,
   "id": "321060ab",
   "metadata": {},
   "outputs": [
    {
     "data": {
      "text/html": [
       "<div>\n",
       "<style scoped>\n",
       "    .dataframe tbody tr th:only-of-type {\n",
       "        vertical-align: middle;\n",
       "    }\n",
       "\n",
       "    .dataframe tbody tr th {\n",
       "        vertical-align: top;\n",
       "    }\n",
       "\n",
       "    .dataframe thead th {\n",
       "        text-align: right;\n",
       "    }\n",
       "</style>\n",
       "<table border=\"1\" class=\"dataframe\">\n",
       "  <thead>\n",
       "    <tr style=\"text-align: right;\">\n",
       "      <th></th>\n",
       "      <th>bookID</th>\n",
       "      <th>title</th>\n",
       "      <th>authors</th>\n",
       "      <th>average_rating</th>\n",
       "    </tr>\n",
       "  </thead>\n",
       "  <tbody>\n",
       "    <tr>\n",
       "      <th>624</th>\n",
       "      <td>2034</td>\n",
       "      <td>Comoediae 1: Acharenses/Equites/Nubes/Vespae/P...</td>\n",
       "      <td>Aristophanes/F.W. Hall/W.M. Geldart</td>\n",
       "      <td>5.0</td>\n",
       "    </tr>\n",
       "    <tr>\n",
       "      <th>786</th>\n",
       "      <td>2560</td>\n",
       "      <td>Willem de Kooning: Late Paintings</td>\n",
       "      <td>Julie Sylvester/David Sylvester</td>\n",
       "      <td>5.0</td>\n",
       "    </tr>\n",
       "    <tr>\n",
       "      <th>855</th>\n",
       "      <td>2843</td>\n",
       "      <td>Literature Circle Guide: Bridge to Terabithia:...</td>\n",
       "      <td>Tara MacCarthy</td>\n",
       "      <td>5.0</td>\n",
       "    </tr>\n",
       "    <tr>\n",
       "      <th>1243</th>\n",
       "      <td>4287</td>\n",
       "      <td>Middlesex Borough (Images of America: New Jersey)</td>\n",
       "      <td>Middlesex Borough Heritage Committee</td>\n",
       "      <td>5.0</td>\n",
       "    </tr>\n",
       "    <tr>\n",
       "      <th>4126</th>\n",
       "      <td>14741</td>\n",
       "      <td>Zone of the Enders: The 2nd Runner Official St...</td>\n",
       "      <td>Tim Bogenn</td>\n",
       "      <td>5.0</td>\n",
       "    </tr>\n",
       "  </tbody>\n",
       "</table>\n",
       "</div>"
      ],
      "text/plain": [
       "      bookID                                              title  \\\n",
       "624     2034  Comoediae 1: Acharenses/Equites/Nubes/Vespae/P...   \n",
       "786     2560                  Willem de Kooning: Late Paintings   \n",
       "855     2843  Literature Circle Guide: Bridge to Terabithia:...   \n",
       "1243    4287  Middlesex Borough (Images of America: New Jersey)   \n",
       "4126   14741  Zone of the Enders: The 2nd Runner Official St...   \n",
       "\n",
       "                                   authors  average_rating  \n",
       "624    Aristophanes/F.W. Hall/W.M. Geldart             5.0  \n",
       "786        Julie Sylvester/David Sylvester             5.0  \n",
       "855                         Tara MacCarthy             5.0  \n",
       "1243  Middlesex Borough Heritage Committee             5.0  \n",
       "4126                            Tim Bogenn             5.0  "
      ]
     },
     "execution_count": 39,
     "metadata": {},
     "output_type": "execute_result"
    }
   ],
   "source": [
    "highest_rated_books.head()"
   ]
  },
  {
   "cell_type": "code",
   "execution_count": 40,
   "id": "0396e2a0",
   "metadata": {},
   "outputs": [
    {
     "data": {
      "text/html": [
       "<div>\n",
       "<style scoped>\n",
       "    .dataframe tbody tr th:only-of-type {\n",
       "        vertical-align: middle;\n",
       "    }\n",
       "\n",
       "    .dataframe tbody tr th {\n",
       "        vertical-align: top;\n",
       "    }\n",
       "\n",
       "    .dataframe thead th {\n",
       "        text-align: right;\n",
       "    }\n",
       "</style>\n",
       "<table border=\"1\" class=\"dataframe\">\n",
       "  <thead>\n",
       "    <tr style=\"text-align: right;\">\n",
       "      <th></th>\n",
       "      <th>bookID</th>\n",
       "      <th>title</th>\n",
       "      <th>authors</th>\n",
       "      <th>average_rating</th>\n",
       "    </tr>\n",
       "  </thead>\n",
       "  <tbody>\n",
       "    <tr>\n",
       "      <th>265</th>\n",
       "      <td>799</td>\n",
       "      <td>Out to Eat London 2002 (Lonely Planet Out to Eat)</td>\n",
       "      <td>Lonely Planet/Mark Honan</td>\n",
       "      <td>0.0</td>\n",
       "    </tr>\n",
       "    <tr>\n",
       "      <th>375</th>\n",
       "      <td>1302</td>\n",
       "      <td>Juiced Official Strategy Guide</td>\n",
       "      <td>Doug Walsh</td>\n",
       "      <td>0.0</td>\n",
       "    </tr>\n",
       "    <tr>\n",
       "      <th>987</th>\n",
       "      <td>3351</td>\n",
       "      <td>Open City 6: The Only Woman He Ever Left</td>\n",
       "      <td>Open City Magazine/James Purdy/Daniel Pinchbec...</td>\n",
       "      <td>0.0</td>\n",
       "    </tr>\n",
       "    <tr>\n",
       "      <th>2532</th>\n",
       "      <td>9337</td>\n",
       "      <td>How To Meditate: An Anthology Of Talks On Medi...</td>\n",
       "      <td>Frederick P. Lenz</td>\n",
       "      <td>0.0</td>\n",
       "    </tr>\n",
       "    <tr>\n",
       "      <th>2533</th>\n",
       "      <td>9338</td>\n",
       "      <td>Insights: Talks On The Nature Of Existence</td>\n",
       "      <td>Frederick P. Lenz</td>\n",
       "      <td>0.0</td>\n",
       "    </tr>\n",
       "  </tbody>\n",
       "</table>\n",
       "</div>"
      ],
      "text/plain": [
       "      bookID                                              title  \\\n",
       "265      799  Out to Eat London 2002 (Lonely Planet Out to Eat)   \n",
       "375     1302                     Juiced Official Strategy Guide   \n",
       "987     3351           Open City 6: The Only Woman He Ever Left   \n",
       "2532    9337  How To Meditate: An Anthology Of Talks On Medi...   \n",
       "2533    9338         Insights: Talks On The Nature Of Existence   \n",
       "\n",
       "                                                authors  average_rating  \n",
       "265                            Lonely Planet/Mark Honan             0.0  \n",
       "375                                          Doug Walsh             0.0  \n",
       "987   Open City Magazine/James Purdy/Daniel Pinchbec...             0.0  \n",
       "2532                                  Frederick P. Lenz             0.0  \n",
       "2533                                  Frederick P. Lenz             0.0  "
      ]
     },
     "execution_count": 40,
     "metadata": {},
     "output_type": "execute_result"
    }
   ],
   "source": [
    "lowest_rated_books.head()"
   ]
  },
  {
   "cell_type": "markdown",
   "id": "d458660f",
   "metadata": {},
   "source": [
    "#### Are certain authors consistently appearing in the highest or lowest-rated books?"
   ]
  },
  {
   "cell_type": "code",
   "execution_count": 41,
   "id": "9070bacc",
   "metadata": {},
   "outputs": [],
   "source": [
    "# Count appearances of authors in each group\n",
    "high_authors_count = highest_rated_books[\"authors\"].value_counts()\n",
    "low_authors_count = lowest_rated_books[\"authors\"].value_counts()"
   ]
  },
  {
   "cell_type": "code",
   "execution_count": 42,
   "id": "453dfa9a",
   "metadata": {},
   "outputs": [
    {
     "name": "stdout",
     "output_type": "stream",
     "text": [
      "Authors appearing most in highest-rated books:\n"
     ]
    },
    {
     "data": {
      "text/plain": [
       "authors\n",
       "NOT A BOOK                             2\n",
       "Aristophanes/F.W. Hall/W.M. Geldart    1\n",
       "Ross Garnaut                           1\n",
       "Sheri Rose Shepherd                    1\n",
       "James E. Campbell                      1\n",
       "Name: count, dtype: int64"
      ]
     },
     "execution_count": 42,
     "metadata": {},
     "output_type": "execute_result"
    }
   ],
   "source": [
    "# Display results\n",
    "print(\"Authors appearing most in highest-rated books:\")\n",
    "high_authors_count.head(5)"
   ]
  },
  {
   "cell_type": "code",
   "execution_count": 43,
   "id": "5e002e02",
   "metadata": {},
   "outputs": [
    {
     "name": "stdout",
     "output_type": "stream",
     "text": [
      "Authors appearing most in lowest-rated books:\n"
     ]
    },
    {
     "data": {
      "text/plain": [
       "authors\n",
       "Frederick P. Lenz             2\n",
       "Lonely Planet/Mark Honan      1\n",
       "Apollodorus/Richard Wagner    1\n",
       "Warren G. Bennis              1\n",
       "James Craig Holte             1\n",
       "Name: count, dtype: int64"
      ]
     },
     "execution_count": 43,
     "metadata": {},
     "output_type": "execute_result"
    }
   ],
   "source": [
    "print(\"Authors appearing most in lowest-rated books:\")\n",
    "low_authors_count.head(5)"
   ]
  },
  {
   "cell_type": "markdown",
   "id": "83507e0b",
   "metadata": {},
   "source": [
    "> All the authors amongst top rating books are unique ones!  \n",
    "> Only 'Frederick P.Lenz' have been amongst the lowest rating authors twice! Others have only appeared once!\n",
    "\n",
    "#### Are there common words or phrases among top-rated books?"
   ]
  },
  {
   "cell_type": "code",
   "execution_count": 44,
   "id": "24efc465",
   "metadata": {},
   "outputs": [],
   "source": [
    "# Function to clean and tokenize titles\n",
    "def tokenize_title(title):\n",
    "    title = str(title).lower()  # Convert to lowercase\n",
    "    title = re.sub(r'[\\(\\)]', '', title)  # Remove parentheses\n",
    "    title = re.sub(r'/', ' ', title)  # Replace slashes with space\n",
    "    title = re.sub(r'[^a-z\\s]', '', title)  # Remove any remaining non-alphabetic characters\n",
    "    words = title.split()\n",
    "    words = [word for word in words if word not in stop_words]  # Remove stopwords\n",
    "    return words\n"
   ]
  },
  {
   "cell_type": "code",
   "execution_count": 45,
   "id": "50de3361",
   "metadata": {},
   "outputs": [],
   "source": [
    "# Apply tokenization to top-rated book titles\n",
    "# Make a copy to avoid SettingWithCopyWarning\n",
    "highest_rated_books = highest_rated_books.copy()\n",
    "highest_rated_books['title_tokens'] = highest_rated_books['title'].apply(tokenize_title)"
   ]
  },
  {
   "cell_type": "code",
   "execution_count": 46,
   "id": "0ee0bcc6",
   "metadata": {},
   "outputs": [
    {
     "data": {
      "text/html": [
       "<div>\n",
       "<style scoped>\n",
       "    .dataframe tbody tr th:only-of-type {\n",
       "        vertical-align: middle;\n",
       "    }\n",
       "\n",
       "    .dataframe tbody tr th {\n",
       "        vertical-align: top;\n",
       "    }\n",
       "\n",
       "    .dataframe thead th {\n",
       "        text-align: right;\n",
       "    }\n",
       "</style>\n",
       "<table border=\"1\" class=\"dataframe\">\n",
       "  <thead>\n",
       "    <tr style=\"text-align: right;\">\n",
       "      <th></th>\n",
       "      <th>bookID</th>\n",
       "      <th>title</th>\n",
       "      <th>authors</th>\n",
       "      <th>average_rating</th>\n",
       "      <th>title_tokens</th>\n",
       "    </tr>\n",
       "  </thead>\n",
       "  <tbody>\n",
       "    <tr>\n",
       "      <th>624</th>\n",
       "      <td>2034</td>\n",
       "      <td>Comoediae 1: Acharenses/Equites/Nubes/Vespae/P...</td>\n",
       "      <td>Aristophanes/F.W. Hall/W.M. Geldart</td>\n",
       "      <td>5.0</td>\n",
       "      <td>[comoediae, acharenses, equites, nubes, vespae...</td>\n",
       "    </tr>\n",
       "    <tr>\n",
       "      <th>786</th>\n",
       "      <td>2560</td>\n",
       "      <td>Willem de Kooning: Late Paintings</td>\n",
       "      <td>Julie Sylvester/David Sylvester</td>\n",
       "      <td>5.0</td>\n",
       "      <td>[willem, de, kooning, late, paintings]</td>\n",
       "    </tr>\n",
       "    <tr>\n",
       "      <th>855</th>\n",
       "      <td>2843</td>\n",
       "      <td>Literature Circle Guide: Bridge to Terabithia:...</td>\n",
       "      <td>Tara MacCarthy</td>\n",
       "      <td>5.0</td>\n",
       "      <td>[literature, circle, guide, bridge, terabithia...</td>\n",
       "    </tr>\n",
       "    <tr>\n",
       "      <th>1243</th>\n",
       "      <td>4287</td>\n",
       "      <td>Middlesex Borough (Images of America: New Jersey)</td>\n",
       "      <td>Middlesex Borough Heritage Committee</td>\n",
       "      <td>5.0</td>\n",
       "      <td>[middlesex, borough, images, america, new, jer...</td>\n",
       "    </tr>\n",
       "    <tr>\n",
       "      <th>4126</th>\n",
       "      <td>14741</td>\n",
       "      <td>Zone of the Enders: The 2nd Runner Official St...</td>\n",
       "      <td>Tim Bogenn</td>\n",
       "      <td>5.0</td>\n",
       "      <td>[zone, enders, nd, runner, official, strategy,...</td>\n",
       "    </tr>\n",
       "  </tbody>\n",
       "</table>\n",
       "</div>"
      ],
      "text/plain": [
       "      bookID                                              title  \\\n",
       "624     2034  Comoediae 1: Acharenses/Equites/Nubes/Vespae/P...   \n",
       "786     2560                  Willem de Kooning: Late Paintings   \n",
       "855     2843  Literature Circle Guide: Bridge to Terabithia:...   \n",
       "1243    4287  Middlesex Borough (Images of America: New Jersey)   \n",
       "4126   14741  Zone of the Enders: The 2nd Runner Official St...   \n",
       "\n",
       "                                   authors  average_rating  \\\n",
       "624    Aristophanes/F.W. Hall/W.M. Geldart             5.0   \n",
       "786        Julie Sylvester/David Sylvester             5.0   \n",
       "855                         Tara MacCarthy             5.0   \n",
       "1243  Middlesex Borough Heritage Committee             5.0   \n",
       "4126                            Tim Bogenn             5.0   \n",
       "\n",
       "                                           title_tokens  \n",
       "624   [comoediae, acharenses, equites, nubes, vespae...  \n",
       "786              [willem, de, kooning, late, paintings]  \n",
       "855   [literature, circle, guide, bridge, terabithia...  \n",
       "1243  [middlesex, borough, images, america, new, jer...  \n",
       "4126  [zone, enders, nd, runner, official, strategy,...  "
      ]
     },
     "execution_count": 46,
     "metadata": {},
     "output_type": "execute_result"
    }
   ],
   "source": [
    "highest_rated_books.head()"
   ]
  },
  {
   "cell_type": "code",
   "execution_count": 21,
   "id": "90f52d6b",
   "metadata": {},
   "outputs": [],
   "source": [
    "# Flatten list of all words in top-rated books\n",
    "all_words = [word for tokens in highest_rated_books['title_tokens'] for word in tokens]"
   ]
  },
  {
   "cell_type": "code",
   "execution_count": 22,
   "id": "8cd0ceac",
   "metadata": {},
   "outputs": [],
   "source": [
    "# Count word frequency\n",
    "word_freq = Counter(all_words)"
   ]
  },
  {
   "cell_type": "code",
   "execution_count": 23,
   "id": "bd2a69e2",
   "metadata": {},
   "outputs": [
    {
     "name": "stdout",
     "output_type": "stream",
     "text": [
      "Most common words in top-rated books:\n",
      "[('literature', 3), ('paintings', 2), ('guide', 2), ('america', 2), ('new', 2), ('color', 2), ('theory', 2), ('goon', 2), ('show', 2), ('volume', 2), ('fallen', 2), ('critical', 2), ('commentary', 2), ('nicholas', 2), ('evans', 2), ('comoediae', 1), ('acharenses', 1), ('equites', 1), ('nubes', 1), ('vespae', 1)]\n"
     ]
    }
   ],
   "source": [
    "# Display the most common words\n",
    "print(\"Most common words in top-rated books:\")\n",
    "print(word_freq.most_common(20))  # Show top 20 most frequent words"
   ]
  },
  {
   "cell_type": "markdown",
   "id": "634f9488",
   "metadata": {},
   "source": [
    "#### Are there common words or phrases among low-rated books?"
   ]
  },
  {
   "cell_type": "code",
   "execution_count": 24,
   "id": "eabfcc74",
   "metadata": {},
   "outputs": [],
   "source": [
    "# Apply tokenization to top-rated book titles\n",
    "# Make a copy to avoid SettingWithCopyWarning\n",
    "lowest_rated_books = lowest_rated_books.copy()\n",
    "lowest_rated_books['title_tokens'] = lowest_rated_books['title'].apply(tokenize_title)"
   ]
  },
  {
   "cell_type": "code",
   "execution_count": 25,
   "id": "1f9d2188",
   "metadata": {},
   "outputs": [],
   "source": [
    "all_words_lowest_rated = [word for tokens in lowest_rated_books['title_tokens'] for word in tokens]"
   ]
  },
  {
   "cell_type": "code",
   "execution_count": 26,
   "id": "64785d3b",
   "metadata": {},
   "outputs": [],
   "source": [
    "# Count word frequency\n",
    "word_freq_lowest = Counter(all_words_lowest_rated)"
   ]
  },
  {
   "cell_type": "code",
   "execution_count": 27,
   "id": "95e2341d",
   "metadata": {},
   "outputs": [
    {
     "name": "stdout",
     "output_type": "stream",
     "text": [
      "Most common words in top-rated books:\n",
      "[('guide', 3), ('eat', 2), ('talks', 2), ('meditation', 2), ('american', 2), ('apollodori', 2), ('night', 2), ('fantastic', 2), ('london', 1), ('lonely', 1), ('planet', 1), ('juiced', 1), ('official', 1), ('strategy', 1), ('open', 1), ('city', 1), ('woman', 1), ('ever', 1), ('left', 1), ('meditate', 1)]\n"
     ]
    }
   ],
   "source": [
    "print(\"Most common words in top-rated books:\")\n",
    "print(word_freq_lowest.most_common(20))  # Show top 20 most frequent words"
   ]
  },
  {
   "cell_type": "markdown",
   "id": "29441b01",
   "metadata": {},
   "source": [
    "#### What is the frequency distribution of books per author, and which authors are most prominent in the dataset?"
   ]
  },
  {
   "cell_type": "code",
   "execution_count": 48,
   "id": "20f36d38",
   "metadata": {},
   "outputs": [],
   "source": [
    "author_counts = df_cleaned.groupby('authors').size().reset_index(name='book_count')"
   ]
  },
  {
   "cell_type": "code",
   "execution_count": 51,
   "id": "8b35ae0b",
   "metadata": {},
   "outputs": [],
   "source": [
    "top_authors = author_counts.sort_values(by='book_count', ascending=False)"
   ]
  },
  {
   "cell_type": "code",
   "execution_count": 54,
   "id": "308f9449",
   "metadata": {},
   "outputs": [],
   "source": [
    "# Select top 5 and bottom 5\n",
    "top_10_authors = top_authors.head(10)"
   ]
  },
  {
   "cell_type": "code",
   "execution_count": 57,
   "id": "92d58b8a",
   "metadata": {},
   "outputs": [
    {
     "data": {
      "image/png": "[encoded data removed]",
      "text/plain": [
       "<Figure size 1000x500 with 1 Axes>"
      ]
     },
     "metadata": {},
     "output_type": "display_data"
    }
   ],
   "source": [
    "# Plot\n",
    "plt.figure(figsize=(10, 5))\n",
    "plt.barh(top_10_authors['authors'], top_10_authors['book_count'], color='skyblue')\n",
    "plt.xlabel('Number of Books Published')\n",
    "plt.ylabel('Authors')\n",
    "plt.title('Top 10 Authors by Number of Publications')\n",
    "plt.gca().invert_yaxis()  # Invert y-axis to show highest at the top\n",
    "plt.show()\n"
   ]
  },
  {
   "cell_type": "markdown",
   "id": "480a0ada",
   "metadata": {},
   "source": []
  }
 ],
 "metadata": {
  "kernelspec": {
   "display_name": "Python 3",
   "language": "python",
   "name": "python3"
  },
  "language_info": {
   "codemirror_mode": {
    "name": "ipython",
    "version": 3
   },
   "file_extension": ".py",
   "mimetype": "text/x-python",
   "name": "python",
   "nbconvert_exporter": "python",
   "pygments_lexer": "ipython3",
   "version": "3.12.2"
  }
 },
 "nbformat": 4,
 "nbformat_minor": 5
}
