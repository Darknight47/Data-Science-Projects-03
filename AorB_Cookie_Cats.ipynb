{
 "cells": [
  {
   "cell_type": "markdown",
   "id": "41a5fc2e",
   "metadata": {},
   "source": [
    "## Main Objective\n",
    "The Main objective of this A/B testing is to examine what happens when the first gate in the game was moved from level 30 to level 40!  \n",
    "When a player installed the game, he or she was randomly assigned to either gate_30 or gate_40.\n",
    "\n",
    "### Data Understanding\n",
    "The data we have is from 90,189 players that installed the game while the AB-test was running. The variables are:\n",
    "\n",
    "1. **userid**: A unique number that identifies each player.\n",
    "2. **version**: Whether the player was put in the control group (gate_30 - a gate at level 30) or the group with the moved gate (gate_40 - a gate at level 40).\n",
    "3. **sum_gamerounds**: the number of game rounds played by the player during the first 14 days after install.\n",
    "4. **retention_1**: Did the player come back and play 1 day after installing?\n",
    "5. **retention_7**: Did the player come back and play 7 days after installing?  \n",
    "\n",
    "When a player installed the game, he or she was randomly assigned to either.  \n",
    "The dataset can be accessed at: [https://www.kaggle.com/datasets/mursideyarkin/mobile-games-ab-testing-cookie-cats/data]  \n",
    "\n",
    "### Hypotheses:\n",
    "**Null Hypothesis $H_0$:** Moving the first gate from level 30 to level 40 does not have any significant impact on player behavior.  \n",
    "In other words, there is no statistical difference in key metrics (sum_gamerounds, retention_1, and retention_7) between players assigned to gate_30 (control) and gate_40 (treatment).\n",
    "\n",
    "**Alternative Hypothesis $H_1$:** Shifting the first gate from level 30 to level 40 does lead to a statistically significant impact on player behavior.  \n",
    "This means that at least one of the metrics (e.g., the number of game rounds played or retention rates) differs between the two groups.\n",
    "\n",
    "### Key Metrics\n",
    "#### Retention\n",
    "1. **retention_1**: binary indicator (0/1) of whether the user returned on day 1.\n",
    "2. **retention_7**: binary indicator (0/1) of whether the user returned on day 7.\n",
    "#### Engagement\n",
    "1. **sum_gamerounds**: total rounds played in the first 14 days\n",
    "\n",
    "**Main Objective**: The primary objective is to evaluate the impact of changing the first gate’s position on early player metrics, including engagement and retention."
   ]
  },
  {
   "cell_type": "code",
   "execution_count": 2,
   "id": "0c1f15c7",
   "metadata": {},
   "outputs": [],
   "source": [
    "import pandas as pd\n",
    "import matplotlib.pyplot as plt\n",
    "import seaborn as sns"
   ]
  },
  {
   "cell_type": "code",
   "execution_count": 3,
   "id": "94a54562",
   "metadata": {},
   "outputs": [],
   "source": [
    "dataset = pd.read_csv(\"datasets/cookie_cats.csv\")"
   ]
  },
  {
   "cell_type": "code",
   "execution_count": 4,
   "id": "312f3f88",
   "metadata": {},
   "outputs": [
    {
     "data": {
      "text/html": [
       "<div>\n",
       "<style scoped>\n",
       "    .dataframe tbody tr th:only-of-type {\n",
       "        vertical-align: middle;\n",
       "    }\n",
       "\n",
       "    .dataframe tbody tr th {\n",
       "        vertical-align: top;\n",
       "    }\n",
       "\n",
       "    .dataframe thead th {\n",
       "        text-align: right;\n",
       "    }\n",
       "</style>\n",
       "<table border=\"1\" class=\"dataframe\">\n",
       "  <thead>\n",
       "    <tr style=\"text-align: right;\">\n",
       "      <th></th>\n",
       "      <th>userid</th>\n",
       "      <th>version</th>\n",
       "      <th>sum_gamerounds</th>\n",
       "      <th>retention_1</th>\n",
       "      <th>retention_7</th>\n",
       "    </tr>\n",
       "  </thead>\n",
       "  <tbody>\n",
       "    <tr>\n",
       "      <th>0</th>\n",
       "      <td>116</td>\n",
       "      <td>gate_30</td>\n",
       "      <td>3</td>\n",
       "      <td>False</td>\n",
       "      <td>False</td>\n",
       "    </tr>\n",
       "    <tr>\n",
       "      <th>1</th>\n",
       "      <td>337</td>\n",
       "      <td>gate_30</td>\n",
       "      <td>38</td>\n",
       "      <td>True</td>\n",
       "      <td>False</td>\n",
       "    </tr>\n",
       "    <tr>\n",
       "      <th>2</th>\n",
       "      <td>377</td>\n",
       "      <td>gate_40</td>\n",
       "      <td>165</td>\n",
       "      <td>True</td>\n",
       "      <td>False</td>\n",
       "    </tr>\n",
       "    <tr>\n",
       "      <th>3</th>\n",
       "      <td>483</td>\n",
       "      <td>gate_40</td>\n",
       "      <td>1</td>\n",
       "      <td>False</td>\n",
       "      <td>False</td>\n",
       "    </tr>\n",
       "    <tr>\n",
       "      <th>4</th>\n",
       "      <td>488</td>\n",
       "      <td>gate_40</td>\n",
       "      <td>179</td>\n",
       "      <td>True</td>\n",
       "      <td>True</td>\n",
       "    </tr>\n",
       "  </tbody>\n",
       "</table>\n",
       "</div>"
      ],
      "text/plain": [
       "   userid  version  sum_gamerounds  retention_1  retention_7\n",
       "0     116  gate_30               3        False        False\n",
       "1     337  gate_30              38         True        False\n",
       "2     377  gate_40             165         True        False\n",
       "3     483  gate_40               1        False        False\n",
       "4     488  gate_40             179         True         True"
      ]
     },
     "execution_count": 4,
     "metadata": {},
     "output_type": "execute_result"
    }
   ],
   "source": [
    "dataset.head()"
   ]
  },
  {
   "cell_type": "code",
   "execution_count": 5,
   "id": "545ad6a6",
   "metadata": {},
   "outputs": [
    {
     "data": {
      "text/plain": [
       "userid            0\n",
       "version           0\n",
       "sum_gamerounds    0\n",
       "retention_1       0\n",
       "retention_7       0\n",
       "dtype: int64"
      ]
     },
     "execution_count": 5,
     "metadata": {},
     "output_type": "execute_result"
    }
   ],
   "source": [
    "dataset.isnull().sum()"
   ]
  },
  {
   "cell_type": "markdown",
   "id": "78b11fdc",
   "metadata": {},
   "source": [
    "### Exploratory Data Analysis for Retention Key Metric\n",
    "#### Is the distribution of players across the two groups (gate_30 and gate_40) balanced?"
   ]
  },
  {
   "cell_type": "code",
   "execution_count": 6,
   "id": "9e3ce0f2",
   "metadata": {},
   "outputs": [],
   "source": [
    "group_counts = dataset.groupby('version')['userid'].count()"
   ]
  },
  {
   "cell_type": "code",
   "execution_count": 7,
   "id": "643d5547",
   "metadata": {},
   "outputs": [
    {
     "data": {
      "text/plain": [
       "version\n",
       "gate_30    44700\n",
       "gate_40    45489\n",
       "Name: userid, dtype: int64"
      ]
     },
     "execution_count": 7,
     "metadata": {},
     "output_type": "execute_result"
    }
   ],
   "source": [
    "group_counts.head()"
   ]
  },
  {
   "cell_type": "code",
   "execution_count": 8,
   "id": "465afc86",
   "metadata": {},
   "outputs": [
    {
     "data": {
      "image/png": "[encoded data removed]",
      "text/plain": [
       "<Figure size 600x400 with 1 Axes>"
      ]
     },
     "metadata": {},
     "output_type": "display_data"
    }
   ],
   "source": [
    "plt.figure(figsize=(6,4))\n",
    "group_counts.plot(kind='bar', color=['green', 'orange'])\n",
    "plt.xlabel('Version')\n",
    "plt.ylabel('Number of Players')\n",
    "plt.title('Distribution of players across the two groups')\n",
    "plt.xticks(rotation=45)\n",
    "plt.ylim(40000, 46000)\n",
    "plt.show()"
   ]
  },
  {
   "cell_type": "markdown",
   "id": "cff33e36",
   "metadata": {},
   "source": [
    "> Distribution between gate_30 (44,700 players) and gate_40 (45,489 players) is fairly even, we can reasonably assume that randomization was properly executed during the A/B test!  \n",
    "1. **No major bias in player assignment**: The test groups are comparable in size, meaning any differences in the results are more likely due to the change in gate position rather than an imbalance in sample sizes.\n",
    "2. **Statistical robustness**: With both groups having large numbers, we can expect our hypothesis tests to have sufficient power to detect meaningful effects.\n",
    "\n",
    "#### How do the average retention_1 and retention_7 rates compare between the two groups?"
   ]
  },
  {
   "cell_type": "code",
   "execution_count": 16,
   "id": "64eddd18",
   "metadata": {},
   "outputs": [],
   "source": [
    "retention_rates = dataset.groupby('version')[['retention_1', 'retention_7']].mean()"
   ]
  },
  {
   "cell_type": "code",
   "execution_count": 17,
   "id": "503a5c9c",
   "metadata": {},
   "outputs": [
    {
     "data": {
      "text/html": [
       "<div>\n",
       "<style scoped>\n",
       "    .dataframe tbody tr th:only-of-type {\n",
       "        vertical-align: middle;\n",
       "    }\n",
       "\n",
       "    .dataframe tbody tr th {\n",
       "        vertical-align: top;\n",
       "    }\n",
       "\n",
       "    .dataframe thead th {\n",
       "        text-align: right;\n",
       "    }\n",
       "</style>\n",
       "<table border=\"1\" class=\"dataframe\">\n",
       "  <thead>\n",
       "    <tr style=\"text-align: right;\">\n",
       "      <th></th>\n",
       "      <th>retention_1</th>\n",
       "      <th>retention_7</th>\n",
       "    </tr>\n",
       "    <tr>\n",
       "      <th>version</th>\n",
       "      <th></th>\n",
       "      <th></th>\n",
       "    </tr>\n",
       "  </thead>\n",
       "  <tbody>\n",
       "    <tr>\n",
       "      <th>gate_30</th>\n",
       "      <td>0.448188</td>\n",
       "      <td>0.190201</td>\n",
       "    </tr>\n",
       "    <tr>\n",
       "      <th>gate_40</th>\n",
       "      <td>0.442283</td>\n",
       "      <td>0.182000</td>\n",
       "    </tr>\n",
       "  </tbody>\n",
       "</table>\n",
       "</div>"
      ],
      "text/plain": [
       "         retention_1  retention_7\n",
       "version                          \n",
       "gate_30     0.448188     0.190201\n",
       "gate_40     0.442283     0.182000"
      ]
     },
     "execution_count": 17,
     "metadata": {},
     "output_type": "execute_result"
    }
   ],
   "source": [
    "retention_rates"
   ]
  },
  {
   "cell_type": "code",
   "execution_count": 18,
   "id": "127bc8f8",
   "metadata": {},
   "outputs": [
    {
     "data": {
      "image/png": "[encoded data removed]",
      "text/plain": [
       "<Figure size 600x400 with 1 Axes>"
      ]
     },
     "metadata": {},
     "output_type": "display_data"
    }
   ],
   "source": [
    "retention_rates.plot(kind='bar', figsize=(6, 4), color=['lightblue', 'orange'])\n",
    "plt.xlabel('Version')\n",
    "plt.ylabel('Retention Rate')\n",
    "plt.title('Average Retention Rates by Group')\n",
    "plt.xticks(rotation=0)\n",
    "plt.legend(title=\"Retention Metric\")\n",
    "plt.show()"
   ]
  },
  {
   "cell_type": "markdown",
   "id": "1e406931",
   "metadata": {},
   "source": [
    "> The retention rates are very similar between the two groups, indicating that moving the gate from level 30 to level 40 did not significantly impact player retention.\n",
    "\n",
    "##### Contingency Tables"
   ]
  },
  {
   "cell_type": "code",
   "execution_count": 21,
   "id": "4bf0ab7d",
   "metadata": {},
   "outputs": [
    {
     "data": {
      "text/html": [
       "<div>\n",
       "<style scoped>\n",
       "    .dataframe tbody tr th:only-of-type {\n",
       "        vertical-align: middle;\n",
       "    }\n",
       "\n",
       "    .dataframe tbody tr th {\n",
       "        vertical-align: top;\n",
       "    }\n",
       "\n",
       "    .dataframe thead th {\n",
       "        text-align: right;\n",
       "    }\n",
       "</style>\n",
       "<table border=\"1\" class=\"dataframe\">\n",
       "  <thead>\n",
       "    <tr style=\"text-align: right;\">\n",
       "      <th>retention_1</th>\n",
       "      <th>False</th>\n",
       "      <th>True</th>\n",
       "    </tr>\n",
       "    <tr>\n",
       "      <th>version</th>\n",
       "      <th></th>\n",
       "      <th></th>\n",
       "    </tr>\n",
       "  </thead>\n",
       "  <tbody>\n",
       "    <tr>\n",
       "      <th>gate_30</th>\n",
       "      <td>24666</td>\n",
       "      <td>20034</td>\n",
       "    </tr>\n",
       "    <tr>\n",
       "      <th>gate_40</th>\n",
       "      <td>25370</td>\n",
       "      <td>20119</td>\n",
       "    </tr>\n",
       "  </tbody>\n",
       "</table>\n",
       "</div>"
      ],
      "text/plain": [
       "retention_1  False  True \n",
       "version                  \n",
       "gate_30      24666  20034\n",
       "gate_40      25370  20119"
      ]
     },
     "execution_count": 21,
     "metadata": {},
     "output_type": "execute_result"
    }
   ],
   "source": [
    "# For retention_1\n",
    "pd.crosstab(dataset['version'], dataset['retention_1'])"
   ]
  },
  {
   "cell_type": "code",
   "execution_count": 22,
   "id": "9b080e5f",
   "metadata": {},
   "outputs": [
    {
     "data": {
      "text/html": [
       "<div>\n",
       "<style scoped>\n",
       "    .dataframe tbody tr th:only-of-type {\n",
       "        vertical-align: middle;\n",
       "    }\n",
       "\n",
       "    .dataframe tbody tr th {\n",
       "        vertical-align: top;\n",
       "    }\n",
       "\n",
       "    .dataframe thead th {\n",
       "        text-align: right;\n",
       "    }\n",
       "</style>\n",
       "<table border=\"1\" class=\"dataframe\">\n",
       "  <thead>\n",
       "    <tr style=\"text-align: right;\">\n",
       "      <th>retention_7</th>\n",
       "      <th>False</th>\n",
       "      <th>True</th>\n",
       "    </tr>\n",
       "    <tr>\n",
       "      <th>version</th>\n",
       "      <th></th>\n",
       "      <th></th>\n",
       "    </tr>\n",
       "  </thead>\n",
       "  <tbody>\n",
       "    <tr>\n",
       "      <th>gate_30</th>\n",
       "      <td>36198</td>\n",
       "      <td>8502</td>\n",
       "    </tr>\n",
       "    <tr>\n",
       "      <th>gate_40</th>\n",
       "      <td>37210</td>\n",
       "      <td>8279</td>\n",
       "    </tr>\n",
       "  </tbody>\n",
       "</table>\n",
       "</div>"
      ],
      "text/plain": [
       "retention_7  False  True \n",
       "version                  \n",
       "gate_30      36198   8502\n",
       "gate_40      37210   8279"
      ]
     },
     "execution_count": 22,
     "metadata": {},
     "output_type": "execute_result"
    }
   ],
   "source": [
    "# For retention_7\n",
    "pd.crosstab(dataset['version'], dataset['retention_7'])"
   ]
  },
  {
   "cell_type": "markdown",
   "id": "d0f31ad0",
   "metadata": {},
   "source": [
    "### Two-Proportion Z-Test\n",
    "1. We are comparing two proportions (binary outcomes).\n",
    "2. Each group is indepdent and large (CLT applies).\n",
    "3. It directly tests whether the difference in proportions is statistically significant.\n",
    "\n",
    "**In other words:**  \n",
    "1. **Two independent groups**: Players who start at gate_30 vs. players who start at gate_40.\n",
    "2. **Binary outcome variables**: Retention_1 (whether they returned after 1 day) and Retention_7 (whether they returned after 7 days).\n",
    "3. **Large sample sizes**: With over 44,000 players per group, normal approximation for a Z-test is valid.\n",
    "\n",
    "#### The EDA confirms:\n",
    "1. The groups are balanced.\n",
    "2. Retention data is binary and suitable for proportion comparison.\n",
    "3. Sample sizes are large enough to safely use z-tests for proportions."
   ]
  },
  {
   "cell_type": "markdown",
   "id": "6629b13a",
   "metadata": {},
   "source": [
    "### Hypotheses:\n",
    "We are testing whether there is a significant difference in day-1 retention rates between the two groups (gate_30 and gate_40).   \n",
    "$p_1 = $ proportion of users retained in gate_30   \n",
    "$p_2 = $ proportion of users retained in gate_40  \n",
    "\n",
    "- **Null Hypothesis $H_0$**: $p_1 = p_2$ There is **no difference** in day-1 retention between the two groups.\n",
    "- **Alternative Hypothesis $H_1$**: $p_1 \\neq p_2$ There **is** a difference in day-1 retention between the groups.\n",
    "> This is a two-tailed test since we care about any significant difference — not just one group being higher.\n",
    "\n",
    "### Calculating the sample proportion and pooled proportions.\n",
    "For **gate_30**:  \n",
    "- $n_1 = 44700$\n",
    "- $x_1 = 24666$ (Number of users retained on day_1)\n",
    "- $\\hat{p_1} = \\frac{x_1}{n_1} = \\frac{24666}{44700} \\approx 0,5518$"
   ]
  },
  {
   "cell_type": "markdown",
   "id": "e4bd217e",
   "metadata": {},
   "source": []
  }
 ],
 "metadata": {
  "kernelspec": {
   "display_name": "Python 3",
   "language": "python",
   "name": "python3"
  },
  "language_info": {
   "codemirror_mode": {
    "name": "ipython",
    "version": 3
   },
   "file_extension": ".py",
   "mimetype": "text/x-python",
   "name": "python",
   "nbconvert_exporter": "python",
   "pygments_lexer": "ipython3",
   "version": "3.12.2"
  }
 },
 "nbformat": 4,
 "nbformat_minor": 5
}
