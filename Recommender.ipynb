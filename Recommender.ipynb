{
 "cells": [
  {
   "cell_type": "markdown",
   "id": "499454d0",
   "metadata": {},
   "source": [
    "# Recommender\n",
    "A Machine Learning-based tool that help users discover items they might like, based on data and preferences!  \n",
    "\n",
    "1. **Netflix:** suggesting what movie to watch next.\n",
    "2. **Spotify:** curating music playlists for your vibe.\n",
    "\n",
    "## Why it matters? \n",
    "It's a beautiful example of how **data meets personalization**. We train models to understand behaviour patterns, make predictions, and improve with feedback, core aspects of ML.\n",
    "\n",
    "## Two Main Approaches:\n",
    "| Recommender Type         | Description                                                         | Example Use Case                                  |\n",
    "|--------------------------|---------------------------------------------------------------------|---------------------------------------------------|\n",
    "| Content-Based Filtering  | Recommends items based on user’s previous choices and item features | Suggesting articles with similar topics           |\n",
    "| Collaborative Filtering  | Recommends items based on similar users' preferences                | “Users who liked this also liked…” on e-commerce  |"
   ]
  },
  {
   "cell_type": "markdown",
   "id": "1fe1be79",
   "metadata": {},
   "source": [
    "### Content-Based Filtering\n",
    "It's a recommendation technique where we look at the **feature of the items** a user has liked, and recommend **similar items** based on those features.  \n",
    "\n",
    "* Think of it as: ***if you liked item A with feature X, you'll probably like item B, which also has feature X.***\n",
    "* It doesn't require other users' data, just users' own interaction history.\n",
    "\n",
    "#### Example\n",
    "| Movie Title       | Genre         | Lead Actor       | Runtime (min) | IMDb Rating |\n",
    "|-------------------|---------------|------------------|----------------|--------------|\n",
    "| Inception         | Sci-Fi        | Leonardo DiCaprio| 148            | 8.8          |\n",
    "| Interstellar      | Sci-Fi        | Matthew McConaughey| 169          | 8.6          |\n",
    "| The Notebook      | Romance       | Ryan Gosling     | 123            | 7.8          |\n",
    "| Shutter Island    | Thriller      | Leonardo DiCaprio| 138            | 8.1          |\n",
    "\n",
    "1. **Each row** represents an **item** to recommend!\n",
    "2. The features or **columns** are item characteristics!\n",
    "\n",
    "> **Example question** to ask of the dataset: What other movie would you recommend to someone who likes Inception?\n",
    "\n",
    "#### Example Scenario\n",
    "Say you've watched three Sci-Fi movies rated very highly. Your user profile becomes:  \n",
    "1. Genre: Sci-Fi heavy.  \n",
    "2. Preference for high IMDB ratings.\n",
    "3. Maybe specific directors or themes (if features allow).  \n",
    "\n",
    "Now, when recommending a new movie, the system finds items with **similar features** like **Genre** and **IMDB Rating** and ranks them based on **similarity**.  \n",
    "\n",
    "### Similarity Metrics\n",
    "Similarity metrics are **mathematical tools** used to quantify how alike two objects are. In content-based filtering, they help measure the **closeness between a user's profile** and an **item's feature vector**,  \n",
    "so we can rank and recommend the most relevant items.\n",
    "\n",
    "### Two popular similarity metrics\n",
    "| Metric             | Definition                                                            | Pros                                                   | Cons                                                  | When to Use                                         |\n",
    "|--------------------|----------------------------------------------------------------------|--------------------------------------------------------|-------------------------------------------------------|----------------------------------------------------|\n",
    "| **Cosine Similarity**   | Measures angle between two vectors (focuses on direction, not magnitude) | Works well with high-dimensional, sparse data (like text) | Doesn't account for magnitude differences             | Text-based data, user/item profiles in vector form |\n",
    "| **Euclidean Distance** | Measures straight-line distance between two vectors (includes magnitude) | Easy to interpret, considers magnitude                | Can be skewed by large scale differences              | When magnitude matters (e.g., numerical ratings)   |\n"
   ]
  },
  {
   "cell_type": "markdown",
   "id": "a9d70f27",
   "metadata": {},
   "source": []
  }
 ],
 "metadata": {
  "kernelspec": {
   "display_name": "Python 3",
   "language": "python",
   "name": "python3"
  },
  "language_info": {
   "codemirror_mode": {
    "name": "ipython",
    "version": 3
   },
   "file_extension": ".py",
   "mimetype": "text/x-python",
   "name": "python",
   "nbconvert_exporter": "python",
   "pygments_lexer": "ipython3",
   "version": "3.12.2"
  }
 },
 "nbformat": 4,
 "nbformat_minor": 5
}
