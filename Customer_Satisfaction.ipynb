{
 "cells": [
  {
   "cell_type": "markdown",
   "id": "498f0a0a",
   "metadata": {},
   "source": [
    "## Main Objective\n",
    "> The primary goal of this project is to perform a comprehensive analysis of customer satisfaction to identify key factors influencing satisfaction and areas needing improvement!  \n",
    "\n",
    "### Data Understanding\n",
    "The dataset has the following features:\n",
    "1. **CustomerID**: Unique identifier for each customer.\n",
    "2. **Age**: Age of the customer.\n",
    "3. **Gender**: Gender of the customer (Male/Female).\n",
    "4. **PurchaseAmount**: Total amount spent by the customer.\n",
    "5. **PurchaseFrequency**: Number of purchases made by the customer.\n",
    "6. **ProductQualityRating**: Customer rating for product quality (1-5).\n",
    "7. **DeliveryTimeRating**: Customer rating for delivery time (1-5).\n",
    "8. **CustomerServiceRating**: Customer rating for customer service (1-5).\n",
    "9. **WebsiteEaseOfUseRating**: Customer rating for website ease of use (1-5).\n",
    "10. **ReturnRate**: Proportion of products returned by the customer.\n",
    "11. **DiscountUsage**: Amount of discount used by the customer.\n",
    "12. **LoyaltyProgramMember**: Whether the customer is a loyalty program member (Yes/No).\n"
   ]
  },
  {
   "cell_type": "code",
   "execution_count": 1,
   "id": "1167f2c2",
   "metadata": {},
   "outputs": [],
   "source": [
    "import pandas as pd"
   ]
  },
  {
   "cell_type": "code",
   "execution_count": 2,
   "id": "e322022e",
   "metadata": {},
   "outputs": [],
   "source": [
    "dataset = pd.read_csv(\"datasets/E-commerce_NPA_Dataset.csv\")"
   ]
  },
  {
   "cell_type": "code",
   "execution_count": 3,
   "id": "fff1b57c",
   "metadata": {},
   "outputs": [
    {
     "data": {
      "text/html": [
       "<div>\n",
       "<style scoped>\n",
       "    .dataframe tbody tr th:only-of-type {\n",
       "        vertical-align: middle;\n",
       "    }\n",
       "\n",
       "    .dataframe tbody tr th {\n",
       "        vertical-align: top;\n",
       "    }\n",
       "\n",
       "    .dataframe thead th {\n",
       "        text-align: right;\n",
       "    }\n",
       "</style>\n",
       "<table border=\"1\" class=\"dataframe\">\n",
       "  <thead>\n",
       "    <tr style=\"text-align: right;\">\n",
       "      <th></th>\n",
       "      <th>CustomerID</th>\n",
       "      <th>Age</th>\n",
       "      <th>Gender</th>\n",
       "      <th>PurchaseAmount</th>\n",
       "      <th>PurchaseFrequency</th>\n",
       "      <th>ProductQualityRating</th>\n",
       "      <th>DeliveryTimeRating</th>\n",
       "      <th>CustomerServiceRating</th>\n",
       "      <th>WebsiteEaseOfUseRating</th>\n",
       "      <th>ReturnRate</th>\n",
       "      <th>DiscountUsage</th>\n",
       "      <th>LoyaltyProgramMember</th>\n",
       "    </tr>\n",
       "  </thead>\n",
       "  <tbody>\n",
       "    <tr>\n",
       "      <th>0</th>\n",
       "      <td>1</td>\n",
       "      <td>38</td>\n",
       "      <td>Female</td>\n",
       "      <td>749.097626</td>\n",
       "      <td>24</td>\n",
       "      <td>2</td>\n",
       "      <td>1</td>\n",
       "      <td>3</td>\n",
       "      <td>5</td>\n",
       "      <td>0.12</td>\n",
       "      <td>135.392573</td>\n",
       "      <td>No</td>\n",
       "    </tr>\n",
       "    <tr>\n",
       "      <th>1</th>\n",
       "      <td>2</td>\n",
       "      <td>30</td>\n",
       "      <td>Male</td>\n",
       "      <td>735.224916</td>\n",
       "      <td>18</td>\n",
       "      <td>5</td>\n",
       "      <td>4</td>\n",
       "      <td>4</td>\n",
       "      <td>5</td>\n",
       "      <td>0.37</td>\n",
       "      <td>193.450663</td>\n",
       "      <td>Yes</td>\n",
       "    </tr>\n",
       "    <tr>\n",
       "      <th>2</th>\n",
       "      <td>3</td>\n",
       "      <td>55</td>\n",
       "      <td>Male</td>\n",
       "      <td>1145.520305</td>\n",
       "      <td>22</td>\n",
       "      <td>3</td>\n",
       "      <td>5</td>\n",
       "      <td>4</td>\n",
       "      <td>1</td>\n",
       "      <td>0.10</td>\n",
       "      <td>147.246263</td>\n",
       "      <td>Yes</td>\n",
       "    </tr>\n",
       "    <tr>\n",
       "      <th>3</th>\n",
       "      <td>4</td>\n",
       "      <td>39</td>\n",
       "      <td>Female</td>\n",
       "      <td>925.460535</td>\n",
       "      <td>14</td>\n",
       "      <td>4</td>\n",
       "      <td>3</td>\n",
       "      <td>2</td>\n",
       "      <td>4</td>\n",
       "      <td>0.38</td>\n",
       "      <td>56.362894</td>\n",
       "      <td>Yes</td>\n",
       "    </tr>\n",
       "    <tr>\n",
       "      <th>4</th>\n",
       "      <td>5</td>\n",
       "      <td>51</td>\n",
       "      <td>Male</td>\n",
       "      <td>108.359916</td>\n",
       "      <td>9</td>\n",
       "      <td>3</td>\n",
       "      <td>3</td>\n",
       "      <td>2</td>\n",
       "      <td>5</td>\n",
       "      <td>0.42</td>\n",
       "      <td>338.731055</td>\n",
       "      <td>No</td>\n",
       "    </tr>\n",
       "  </tbody>\n",
       "</table>\n",
       "</div>"
      ],
      "text/plain": [
       "   CustomerID  Age  Gender  PurchaseAmount  PurchaseFrequency  \\\n",
       "0           1   38  Female      749.097626                 24   \n",
       "1           2   30    Male      735.224916                 18   \n",
       "2           3   55    Male     1145.520305                 22   \n",
       "3           4   39  Female      925.460535                 14   \n",
       "4           5   51    Male      108.359916                  9   \n",
       "\n",
       "   ProductQualityRating  DeliveryTimeRating  CustomerServiceRating  \\\n",
       "0                     2                   1                      3   \n",
       "1                     5                   4                      4   \n",
       "2                     3                   5                      4   \n",
       "3                     4                   3                      2   \n",
       "4                     3                   3                      2   \n",
       "\n",
       "   WebsiteEaseOfUseRating  ReturnRate  DiscountUsage LoyaltyProgramMember  \n",
       "0                       5        0.12     135.392573                   No  \n",
       "1                       5        0.37     193.450663                  Yes  \n",
       "2                       1        0.10     147.246263                  Yes  \n",
       "3                       4        0.38      56.362894                  Yes  \n",
       "4                       5        0.42     338.731055                   No  "
      ]
     },
     "execution_count": 3,
     "metadata": {},
     "output_type": "execute_result"
    }
   ],
   "source": [
    "dataset.head()"
   ]
  },
  {
   "cell_type": "code",
   "execution_count": 4,
   "id": "67ae2e5d",
   "metadata": {},
   "outputs": [
    {
     "name": "stdout",
     "output_type": "stream",
     "text": [
      "<class 'pandas.core.frame.DataFrame'>\n",
      "RangeIndex: 500 entries, 0 to 499\n",
      "Data columns (total 12 columns):\n",
      " #   Column                  Non-Null Count  Dtype  \n",
      "---  ------                  --------------  -----  \n",
      " 0   CustomerID              500 non-null    int64  \n",
      " 1   Age                     500 non-null    int64  \n",
      " 2   Gender                  500 non-null    object \n",
      " 3   PurchaseAmount          500 non-null    float64\n",
      " 4   PurchaseFrequency       500 non-null    int64  \n",
      " 5   ProductQualityRating    500 non-null    int64  \n",
      " 6   DeliveryTimeRating      500 non-null    int64  \n",
      " 7   CustomerServiceRating   500 non-null    int64  \n",
      " 8   WebsiteEaseOfUseRating  500 non-null    int64  \n",
      " 9   ReturnRate              500 non-null    float64\n",
      " 10  DiscountUsage           500 non-null    float64\n",
      " 11  LoyaltyProgramMember    500 non-null    object \n",
      "dtypes: float64(3), int64(7), object(2)\n",
      "memory usage: 47.0+ KB\n"
     ]
    }
   ],
   "source": [
    "dataset.info()"
   ]
  },
  {
   "cell_type": "code",
   "execution_count": 5,
   "id": "e4868423",
   "metadata": {},
   "outputs": [
    {
     "data": {
      "text/plain": [
       "CustomerID                0\n",
       "Age                       0\n",
       "Gender                    0\n",
       "PurchaseAmount            0\n",
       "PurchaseFrequency         0\n",
       "ProductQualityRating      0\n",
       "DeliveryTimeRating        0\n",
       "CustomerServiceRating     0\n",
       "WebsiteEaseOfUseRating    0\n",
       "ReturnRate                0\n",
       "DiscountUsage             0\n",
       "LoyaltyProgramMember      0\n",
       "dtype: int64"
      ]
     },
     "execution_count": 5,
     "metadata": {},
     "output_type": "execute_result"
    }
   ],
   "source": [
    "dataset.isnull().sum()"
   ]
  },
  {
   "cell_type": "markdown",
   "id": "6a144a7b",
   "metadata": {},
   "source": []
  }
 ],
 "metadata": {
  "kernelspec": {
   "display_name": "Python 3",
   "language": "python",
   "name": "python3"
  },
  "language_info": {
   "codemirror_mode": {
    "name": "ipython",
    "version": 3
   },
   "file_extension": ".py",
   "mimetype": "text/x-python",
   "name": "python",
   "nbconvert_exporter": "python",
   "pygments_lexer": "ipython3",
   "version": "3.12.2"
  }
 },
 "nbformat": 4,
 "nbformat_minor": 5
}
