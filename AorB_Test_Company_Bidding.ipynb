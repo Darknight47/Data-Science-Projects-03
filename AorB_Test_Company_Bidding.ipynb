{
 "cells": [
  {
   "cell_type": "markdown",
   "metadata": {},
   "source": [
    "## Main Goal\n",
    "A company recently introduced a new bidding type, “average bidding”, as an alternative to its exisiting bidding type, called “maximum bidding”!  \n",
    "One of our clients, TEST.com, has decided to test this new feature and wants to conduct an A/B test to understand if average bidding brings more conversions than maximum bidding.\n",
    "\n",
    "The A/B test has run for 1 month and TEST.com now expects you to analyze and present the results of this A/B test.\n",
    "\n",
    "> **A/B testing** helps in finding a better approach to finding customers, marketing products, getting a higher reach, or anything that helps a business convert most of its target customers into actual customers.\n",
    "\n",
    "#### Hypotheses:\n",
    "\n",
    "**Null Hypothesis (H₀)**: There is no significant difference in conversions between average bidding and maximum bidding.  \n",
    "**Alternative Hypothesis (H₁)**: Average bidding leads to significantly more conversions than maximum bidding.\n",
    "\n",
    "> **Objective**: To determine whether the new average bidding strategy improves conversion metrics (e.g., purchases, add-to-cart rates) compared to the existing maximum bidding.\n",
    "\n",
    "### Data Understanding\n",
    "The dataset has the following features:\n",
    "\n",
    "1. **Campaign Name**: The name of the campaign\n",
    "2. **Date**: Date of the record\n",
    "3. **Spend**: Amount spent on the campaign in dollars\n",
    "4. **of Impressions**: Number of impressions the ad crossed through the campaign\n",
    "5. **Reach**: The number of unique impressions received in the ad\n",
    "6. **of Website Clicks**: Number of website clicks received through the ads\n",
    "7. **of Searches**: Number of users who performed searches on the website \n",
    "8. **of View Content**: Number of users who viewed content and products on the website\n",
    "9. **of Add to Cart**: Number of users who added products to the cart\n",
    "10. **of Purchase**: Number of purchases\n",
    "\n",
    "The dataset can be found at: [https://www.kaggle.com/datasets/ilkeryildiz/example-dataset-for-ab-test]"
   ]
  },
  {
   "cell_type": "code",
   "execution_count": 23,
   "metadata": {},
   "outputs": [],
   "source": [
    "import pandas as pd\n",
    "import seaborn as sns\n",
    "import matplotlib.pyplot as plt"
   ]
  },
  {
   "cell_type": "code",
   "execution_count": 3,
   "metadata": {},
   "outputs": [],
   "source": [
    "control_data = pd.read_csv(\"datasets/ab/control_group.csv\", sep=\";\")\n",
    "test_data = pd.read_csv(\"datasets/ab/test_group.csv\", sep=\";\")"
   ]
  },
  {
   "cell_type": "code",
   "execution_count": 4,
   "metadata": {},
   "outputs": [
    {
     "data": {
      "text/html": [
       "<div>\n",
       "<style scoped>\n",
       "    .dataframe tbody tr th:only-of-type {\n",
       "        vertical-align: middle;\n",
       "    }\n",
       "\n",
       "    .dataframe tbody tr th {\n",
       "        vertical-align: top;\n",
       "    }\n",
       "\n",
       "    .dataframe thead th {\n",
       "        text-align: right;\n",
       "    }\n",
       "</style>\n",
       "<table border=\"1\" class=\"dataframe\">\n",
       "  <thead>\n",
       "    <tr style=\"text-align: right;\">\n",
       "      <th></th>\n",
       "      <th>Campaign Name</th>\n",
       "      <th>Date</th>\n",
       "      <th>Spend [USD]</th>\n",
       "      <th># of Impressions</th>\n",
       "      <th>Reach</th>\n",
       "      <th># of Website Clicks</th>\n",
       "      <th># of Searches</th>\n",
       "      <th># of View Content</th>\n",
       "      <th># of Add to Cart</th>\n",
       "      <th># of Purchase</th>\n",
       "    </tr>\n",
       "  </thead>\n",
       "  <tbody>\n",
       "    <tr>\n",
       "      <th>0</th>\n",
       "      <td>Control Campaign</td>\n",
       "      <td>1.08.2019</td>\n",
       "      <td>2280</td>\n",
       "      <td>82702.0</td>\n",
       "      <td>56930.0</td>\n",
       "      <td>7016.0</td>\n",
       "      <td>2290.0</td>\n",
       "      <td>2159.0</td>\n",
       "      <td>1819.0</td>\n",
       "      <td>618.0</td>\n",
       "    </tr>\n",
       "    <tr>\n",
       "      <th>1</th>\n",
       "      <td>Control Campaign</td>\n",
       "      <td>2.08.2019</td>\n",
       "      <td>1757</td>\n",
       "      <td>121040.0</td>\n",
       "      <td>102513.0</td>\n",
       "      <td>8110.0</td>\n",
       "      <td>2033.0</td>\n",
       "      <td>1841.0</td>\n",
       "      <td>1219.0</td>\n",
       "      <td>511.0</td>\n",
       "    </tr>\n",
       "    <tr>\n",
       "      <th>2</th>\n",
       "      <td>Control Campaign</td>\n",
       "      <td>3.08.2019</td>\n",
       "      <td>2343</td>\n",
       "      <td>131711.0</td>\n",
       "      <td>110862.0</td>\n",
       "      <td>6508.0</td>\n",
       "      <td>1737.0</td>\n",
       "      <td>1549.0</td>\n",
       "      <td>1134.0</td>\n",
       "      <td>372.0</td>\n",
       "    </tr>\n",
       "    <tr>\n",
       "      <th>3</th>\n",
       "      <td>Control Campaign</td>\n",
       "      <td>4.08.2019</td>\n",
       "      <td>1940</td>\n",
       "      <td>72878.0</td>\n",
       "      <td>61235.0</td>\n",
       "      <td>3065.0</td>\n",
       "      <td>1042.0</td>\n",
       "      <td>982.0</td>\n",
       "      <td>1183.0</td>\n",
       "      <td>340.0</td>\n",
       "    </tr>\n",
       "    <tr>\n",
       "      <th>4</th>\n",
       "      <td>Control Campaign</td>\n",
       "      <td>5.08.2019</td>\n",
       "      <td>1835</td>\n",
       "      <td>NaN</td>\n",
       "      <td>NaN</td>\n",
       "      <td>NaN</td>\n",
       "      <td>NaN</td>\n",
       "      <td>NaN</td>\n",
       "      <td>NaN</td>\n",
       "      <td>NaN</td>\n",
       "    </tr>\n",
       "  </tbody>\n",
       "</table>\n",
       "</div>"
      ],
      "text/plain": [
       "      Campaign Name       Date  Spend [USD]  # of Impressions     Reach  \\\n",
       "0  Control Campaign  1.08.2019         2280           82702.0   56930.0   \n",
       "1  Control Campaign  2.08.2019         1757          121040.0  102513.0   \n",
       "2  Control Campaign  3.08.2019         2343          131711.0  110862.0   \n",
       "3  Control Campaign  4.08.2019         1940           72878.0   61235.0   \n",
       "4  Control Campaign  5.08.2019         1835               NaN       NaN   \n",
       "\n",
       "   # of Website Clicks  # of Searches  # of View Content  # of Add to Cart  \\\n",
       "0               7016.0         2290.0             2159.0            1819.0   \n",
       "1               8110.0         2033.0             1841.0            1219.0   \n",
       "2               6508.0         1737.0             1549.0            1134.0   \n",
       "3               3065.0         1042.0              982.0            1183.0   \n",
       "4                  NaN            NaN                NaN               NaN   \n",
       "\n",
       "   # of Purchase  \n",
       "0          618.0  \n",
       "1          511.0  \n",
       "2          372.0  \n",
       "3          340.0  \n",
       "4            NaN  "
      ]
     },
     "execution_count": 4,
     "metadata": {},
     "output_type": "execute_result"
    }
   ],
   "source": [
    "control_data.head()"
   ]
  },
  {
   "cell_type": "code",
   "execution_count": 5,
   "metadata": {},
   "outputs": [
    {
     "data": {
      "text/html": [
       "<div>\n",
       "<style scoped>\n",
       "    .dataframe tbody tr th:only-of-type {\n",
       "        vertical-align: middle;\n",
       "    }\n",
       "\n",
       "    .dataframe tbody tr th {\n",
       "        vertical-align: top;\n",
       "    }\n",
       "\n",
       "    .dataframe thead th {\n",
       "        text-align: right;\n",
       "    }\n",
       "</style>\n",
       "<table border=\"1\" class=\"dataframe\">\n",
       "  <thead>\n",
       "    <tr style=\"text-align: right;\">\n",
       "      <th></th>\n",
       "      <th>Campaign Name</th>\n",
       "      <th>Date</th>\n",
       "      <th>Spend [USD]</th>\n",
       "      <th># of Impressions</th>\n",
       "      <th>Reach</th>\n",
       "      <th># of Website Clicks</th>\n",
       "      <th># of Searches</th>\n",
       "      <th># of View Content</th>\n",
       "      <th># of Add to Cart</th>\n",
       "      <th># of Purchase</th>\n",
       "    </tr>\n",
       "  </thead>\n",
       "  <tbody>\n",
       "    <tr>\n",
       "      <th>0</th>\n",
       "      <td>Test Campaign</td>\n",
       "      <td>1.08.2019</td>\n",
       "      <td>3008</td>\n",
       "      <td>39550</td>\n",
       "      <td>35820</td>\n",
       "      <td>3038</td>\n",
       "      <td>1946</td>\n",
       "      <td>1069</td>\n",
       "      <td>894</td>\n",
       "      <td>255</td>\n",
       "    </tr>\n",
       "    <tr>\n",
       "      <th>1</th>\n",
       "      <td>Test Campaign</td>\n",
       "      <td>2.08.2019</td>\n",
       "      <td>2542</td>\n",
       "      <td>100719</td>\n",
       "      <td>91236</td>\n",
       "      <td>4657</td>\n",
       "      <td>2359</td>\n",
       "      <td>1548</td>\n",
       "      <td>879</td>\n",
       "      <td>677</td>\n",
       "    </tr>\n",
       "    <tr>\n",
       "      <th>2</th>\n",
       "      <td>Test Campaign</td>\n",
       "      <td>3.08.2019</td>\n",
       "      <td>2365</td>\n",
       "      <td>70263</td>\n",
       "      <td>45198</td>\n",
       "      <td>7885</td>\n",
       "      <td>2572</td>\n",
       "      <td>2367</td>\n",
       "      <td>1268</td>\n",
       "      <td>578</td>\n",
       "    </tr>\n",
       "    <tr>\n",
       "      <th>3</th>\n",
       "      <td>Test Campaign</td>\n",
       "      <td>4.08.2019</td>\n",
       "      <td>2710</td>\n",
       "      <td>78451</td>\n",
       "      <td>25937</td>\n",
       "      <td>4216</td>\n",
       "      <td>2216</td>\n",
       "      <td>1437</td>\n",
       "      <td>566</td>\n",
       "      <td>340</td>\n",
       "    </tr>\n",
       "    <tr>\n",
       "      <th>4</th>\n",
       "      <td>Test Campaign</td>\n",
       "      <td>5.08.2019</td>\n",
       "      <td>2297</td>\n",
       "      <td>114295</td>\n",
       "      <td>95138</td>\n",
       "      <td>5863</td>\n",
       "      <td>2106</td>\n",
       "      <td>858</td>\n",
       "      <td>956</td>\n",
       "      <td>768</td>\n",
       "    </tr>\n",
       "  </tbody>\n",
       "</table>\n",
       "</div>"
      ],
      "text/plain": [
       "   Campaign Name       Date  Spend [USD]  # of Impressions  Reach  \\\n",
       "0  Test Campaign  1.08.2019         3008             39550  35820   \n",
       "1  Test Campaign  2.08.2019         2542            100719  91236   \n",
       "2  Test Campaign  3.08.2019         2365             70263  45198   \n",
       "3  Test Campaign  4.08.2019         2710             78451  25937   \n",
       "4  Test Campaign  5.08.2019         2297            114295  95138   \n",
       "\n",
       "   # of Website Clicks  # of Searches  # of View Content  # of Add to Cart  \\\n",
       "0                 3038           1946               1069               894   \n",
       "1                 4657           2359               1548               879   \n",
       "2                 7885           2572               2367              1268   \n",
       "3                 4216           2216               1437               566   \n",
       "4                 5863           2106                858               956   \n",
       "\n",
       "   # of Purchase  \n",
       "0            255  \n",
       "1            677  \n",
       "2            578  \n",
       "3            340  \n",
       "4            768  "
      ]
     },
     "execution_count": 5,
     "metadata": {},
     "output_type": "execute_result"
    }
   ],
   "source": [
    "test_data.head()"
   ]
  },
  {
   "cell_type": "markdown",
   "metadata": {},
   "source": [
    "### Data Preprocessing\n",
    "Some feature's names are incorrect, let's fix them first!"
   ]
  },
  {
   "cell_type": "code",
   "execution_count": 6,
   "metadata": {},
   "outputs": [],
   "source": [
    "new_columnNames = ['Campaign Name', 'Date', 'Amount Spent', 'Number of Impressions', 'Reach', 'Number of Website Clicks', 'Number of Searches', \n",
    "                        'Number of View Content', 'Number of Add to Cart', 'Number of Purchase']\n",
    "control_data.columns = new_columnNames\n",
    "test_data.columns = new_columnNames"
   ]
  },
  {
   "cell_type": "code",
   "execution_count": 7,
   "metadata": {},
   "outputs": [
    {
     "data": {
      "text/html": [
       "<div>\n",
       "<style scoped>\n",
       "    .dataframe tbody tr th:only-of-type {\n",
       "        vertical-align: middle;\n",
       "    }\n",
       "\n",
       "    .dataframe tbody tr th {\n",
       "        vertical-align: top;\n",
       "    }\n",
       "\n",
       "    .dataframe thead th {\n",
       "        text-align: right;\n",
       "    }\n",
       "</style>\n",
       "<table border=\"1\" class=\"dataframe\">\n",
       "  <thead>\n",
       "    <tr style=\"text-align: right;\">\n",
       "      <th></th>\n",
       "      <th>Campaign Name</th>\n",
       "      <th>Date</th>\n",
       "      <th>Amount Spent</th>\n",
       "      <th>Number of Impressions</th>\n",
       "      <th>Reach</th>\n",
       "      <th>Number of Website Clicks</th>\n",
       "      <th>Number of Searches</th>\n",
       "      <th>Number of View Content</th>\n",
       "      <th>Number of Add to Cart</th>\n",
       "      <th>Number of Purchase</th>\n",
       "    </tr>\n",
       "  </thead>\n",
       "  <tbody>\n",
       "    <tr>\n",
       "      <th>0</th>\n",
       "      <td>Control Campaign</td>\n",
       "      <td>1.08.2019</td>\n",
       "      <td>2280</td>\n",
       "      <td>82702.0</td>\n",
       "      <td>56930.0</td>\n",
       "      <td>7016.0</td>\n",
       "      <td>2290.0</td>\n",
       "      <td>2159.0</td>\n",
       "      <td>1819.0</td>\n",
       "      <td>618.0</td>\n",
       "    </tr>\n",
       "    <tr>\n",
       "      <th>1</th>\n",
       "      <td>Control Campaign</td>\n",
       "      <td>2.08.2019</td>\n",
       "      <td>1757</td>\n",
       "      <td>121040.0</td>\n",
       "      <td>102513.0</td>\n",
       "      <td>8110.0</td>\n",
       "      <td>2033.0</td>\n",
       "      <td>1841.0</td>\n",
       "      <td>1219.0</td>\n",
       "      <td>511.0</td>\n",
       "    </tr>\n",
       "  </tbody>\n",
       "</table>\n",
       "</div>"
      ],
      "text/plain": [
       "      Campaign Name       Date  Amount Spent  Number of Impressions     Reach  \\\n",
       "0  Control Campaign  1.08.2019          2280                82702.0   56930.0   \n",
       "1  Control Campaign  2.08.2019          1757               121040.0  102513.0   \n",
       "\n",
       "   Number of Website Clicks  Number of Searches  Number of View Content  \\\n",
       "0                    7016.0              2290.0                  2159.0   \n",
       "1                    8110.0              2033.0                  1841.0   \n",
       "\n",
       "   Number of Add to Cart  Number of Purchase  \n",
       "0                 1819.0               618.0  \n",
       "1                 1219.0               511.0  "
      ]
     },
     "execution_count": 7,
     "metadata": {},
     "output_type": "execute_result"
    }
   ],
   "source": [
    "control_data.head(2)"
   ]
  },
  {
   "cell_type": "code",
   "execution_count": 8,
   "metadata": {},
   "outputs": [
    {
     "data": {
      "text/plain": [
       "Campaign Name               0\n",
       "Date                        0\n",
       "Amount Spent                0\n",
       "Number of Impressions       0\n",
       "Reach                       0\n",
       "Number of Website Clicks    0\n",
       "Number of Searches          0\n",
       "Number of View Content      0\n",
       "Number of Add to Cart       0\n",
       "Number of Purchase          0\n",
       "dtype: int64"
      ]
     },
     "execution_count": 8,
     "metadata": {},
     "output_type": "execute_result"
    }
   ],
   "source": [
    "# Checking Null Values\n",
    "test_data.isnull().sum()"
   ]
  },
  {
   "cell_type": "code",
   "execution_count": 9,
   "metadata": {},
   "outputs": [
    {
     "data": {
      "text/plain": [
       "Campaign Name               0\n",
       "Date                        0\n",
       "Amount Spent                0\n",
       "Number of Impressions       1\n",
       "Reach                       1\n",
       "Number of Website Clicks    1\n",
       "Number of Searches          1\n",
       "Number of View Content      1\n",
       "Number of Add to Cart       1\n",
       "Number of Purchase          1\n",
       "dtype: int64"
      ]
     },
     "execution_count": 9,
     "metadata": {},
     "output_type": "execute_result"
    }
   ],
   "source": [
    "control_data.isnull().sum()"
   ]
  },
  {
   "cell_type": "code",
   "execution_count": 10,
   "metadata": {},
   "outputs": [],
   "source": [
    "# Dealing With Outliers by filling them with the average value of each respective column\n",
    "\n",
    "control_data['Number of Impressions'] = control_data['Number of Impressions'].fillna(value=control_data['Number of Impressions'].mean())\n",
    "control_data['Reach'] = control_data['Reach'].fillna(value=control_data['Reach'].mean())\n",
    "control_data['Number of Website Clicks'] = control_data['Number of Website Clicks'].fillna(value=control_data['Number of Website Clicks'].mean())\n",
    "control_data['Number of Searches'] = control_data['Number of Searches'].fillna(value=control_data['Number of Searches'].mean())\n",
    "control_data['Number of View Content'] = control_data['Number of View Content'].fillna(value=control_data['Number of View Content'].mean())\n",
    "control_data['Number of Add to Cart'] = control_data['Number of Add to Cart'].fillna(value=control_data['Number of Add to Cart'].mean())\n",
    "control_data['Number of Purchase'] = control_data['Number of Purchase'].fillna(value=control_data['Number of Purchase'].mean())"
   ]
  },
  {
   "cell_type": "code",
   "execution_count": 11,
   "metadata": {},
   "outputs": [
    {
     "data": {
      "text/plain": [
       "Campaign Name               0\n",
       "Date                        0\n",
       "Amount Spent                0\n",
       "Number of Impressions       0\n",
       "Reach                       0\n",
       "Number of Website Clicks    0\n",
       "Number of Searches          0\n",
       "Number of View Content      0\n",
       "Number of Add to Cart       0\n",
       "Number of Purchase          0\n",
       "dtype: int64"
      ]
     },
     "execution_count": 11,
     "metadata": {},
     "output_type": "execute_result"
    }
   ],
   "source": [
    "control_data.isnull().sum()"
   ]
  },
  {
   "cell_type": "code",
   "execution_count": 19,
   "metadata": {},
   "outputs": [],
   "source": [
    "# Convert 'Date' columns to datetime format\n",
    "control_data['Date'] = pd.to_datetime(control_data['Date'], format='%d.%m.%Y')\n",
    "test_data['Date'] = pd.to_datetime(test_data['Date'], format='%d.%m.%Y')"
   ]
  },
  {
   "cell_type": "markdown",
   "metadata": {},
   "source": [
    "#### Merging the datasets"
   ]
  },
  {
   "cell_type": "code",
   "execution_count": 20,
   "metadata": {},
   "outputs": [],
   "source": [
    "# Convert all numerical columns to float\n",
    "for col in control_data.select_dtypes(include=['int', 'float']).columns:\n",
    "    control_data[col] = control_data[col].astype(float)\n",
    "    test_data[col] = test_data[col].astype(float)"
   ]
  },
  {
   "cell_type": "code",
   "execution_count": 21,
   "metadata": {},
   "outputs": [],
   "source": [
    "dataset = control_data.merge(test_data, how='outer').sort_values(['Date'])\n",
    "dataset = dataset.reset_index(drop=True)"
   ]
  },
  {
   "cell_type": "code",
   "execution_count": 22,
   "metadata": {},
   "outputs": [
    {
     "data": {
      "text/html": [
       "<div>\n",
       "<style scoped>\n",
       "    .dataframe tbody tr th:only-of-type {\n",
       "        vertical-align: middle;\n",
       "    }\n",
       "\n",
       "    .dataframe tbody tr th {\n",
       "        vertical-align: top;\n",
       "    }\n",
       "\n",
       "    .dataframe thead th {\n",
       "        text-align: right;\n",
       "    }\n",
       "</style>\n",
       "<table border=\"1\" class=\"dataframe\">\n",
       "  <thead>\n",
       "    <tr style=\"text-align: right;\">\n",
       "      <th></th>\n",
       "      <th>Campaign Name</th>\n",
       "      <th>Date</th>\n",
       "      <th>Amount Spent</th>\n",
       "      <th>Number of Impressions</th>\n",
       "      <th>Reach</th>\n",
       "      <th>Number of Website Clicks</th>\n",
       "      <th>Number of Searches</th>\n",
       "      <th>Number of View Content</th>\n",
       "      <th>Number of Add to Cart</th>\n",
       "      <th>Number of Purchase</th>\n",
       "    </tr>\n",
       "  </thead>\n",
       "  <tbody>\n",
       "    <tr>\n",
       "      <th>0</th>\n",
       "      <td>Control Campaign</td>\n",
       "      <td>2019-08-01</td>\n",
       "      <td>2280.0</td>\n",
       "      <td>82702.0</td>\n",
       "      <td>56930.0</td>\n",
       "      <td>7016.0</td>\n",
       "      <td>2290.0</td>\n",
       "      <td>2159.0</td>\n",
       "      <td>1819.0</td>\n",
       "      <td>618.0</td>\n",
       "    </tr>\n",
       "    <tr>\n",
       "      <th>1</th>\n",
       "      <td>Test Campaign</td>\n",
       "      <td>2019-08-01</td>\n",
       "      <td>3008.0</td>\n",
       "      <td>39550.0</td>\n",
       "      <td>35820.0</td>\n",
       "      <td>3038.0</td>\n",
       "      <td>1946.0</td>\n",
       "      <td>1069.0</td>\n",
       "      <td>894.0</td>\n",
       "      <td>255.0</td>\n",
       "    </tr>\n",
       "  </tbody>\n",
       "</table>\n",
       "</div>"
      ],
      "text/plain": [
       "      Campaign Name       Date  Amount Spent  Number of Impressions    Reach  \\\n",
       "0  Control Campaign 2019-08-01        2280.0                82702.0  56930.0   \n",
       "1     Test Campaign 2019-08-01        3008.0                39550.0  35820.0   \n",
       "\n",
       "   Number of Website Clicks  Number of Searches  Number of View Content  \\\n",
       "0                    7016.0              2290.0                  2159.0   \n",
       "1                    3038.0              1946.0                  1069.0   \n",
       "\n",
       "   Number of Add to Cart  Number of Purchase  \n",
       "0                 1819.0               618.0  \n",
       "1                  894.0               255.0  "
      ]
     },
     "execution_count": 22,
     "metadata": {},
     "output_type": "execute_result"
    }
   ],
   "source": [
    "dataset.head(2)"
   ]
  },
  {
   "cell_type": "markdown",
   "metadata": {},
   "source": [
    "### Exploratory Data Analysis\n",
    "#### What is the overall distribution of key conversion metrics (e.g., Number of Purchase, Number of Add to Cart) for each bidding type?"
   ]
  },
  {
   "cell_type": "code",
   "execution_count": 24,
   "metadata": {},
   "outputs": [],
   "source": [
    "# Calculate summary statistics\n",
    "campaign_grouped = dataset.groupby('Campaign Name')[['Number of Add to Cart', 'Number of Purchase']].agg(['mean', 'median', 'std', 'min', 'max', 'quantile'])"
   ]
  },
  {
   "cell_type": "code",
   "execution_count": 30,
   "metadata": {},
   "outputs": [
    {
     "data": {
      "text/html": [
       "<div>\n",
       "<style scoped>\n",
       "    .dataframe tbody tr th:only-of-type {\n",
       "        vertical-align: middle;\n",
       "    }\n",
       "\n",
       "    .dataframe tbody tr th {\n",
       "        vertical-align: top;\n",
       "    }\n",
       "\n",
       "    .dataframe thead tr th {\n",
       "        text-align: left;\n",
       "    }\n",
       "\n",
       "    .dataframe thead tr:last-of-type th {\n",
       "        text-align: right;\n",
       "    }\n",
       "</style>\n",
       "<table border=\"1\" class=\"dataframe\">\n",
       "  <thead>\n",
       "    <tr>\n",
       "      <th></th>\n",
       "      <th colspan=\"6\" halign=\"left\">Number of Add to Cart</th>\n",
       "      <th colspan=\"6\" halign=\"left\">Number of Purchase</th>\n",
       "    </tr>\n",
       "    <tr>\n",
       "      <th></th>\n",
       "      <th>mean</th>\n",
       "      <th>median</th>\n",
       "      <th>std</th>\n",
       "      <th>min</th>\n",
       "      <th>max</th>\n",
       "      <th>quantile</th>\n",
       "      <th>mean</th>\n",
       "      <th>median</th>\n",
       "      <th>std</th>\n",
       "      <th>min</th>\n",
       "      <th>max</th>\n",
       "      <th>quantile</th>\n",
       "    </tr>\n",
       "    <tr>\n",
       "      <th>Campaign Name</th>\n",
       "      <th></th>\n",
       "      <th></th>\n",
       "      <th></th>\n",
       "      <th></th>\n",
       "      <th></th>\n",
       "      <th></th>\n",
       "      <th></th>\n",
       "      <th></th>\n",
       "      <th></th>\n",
       "      <th></th>\n",
       "      <th></th>\n",
       "      <th></th>\n",
       "    </tr>\n",
       "  </thead>\n",
       "  <tbody>\n",
       "    <tr>\n",
       "      <th>Control Campaign</th>\n",
       "      <td>1300.000000</td>\n",
       "      <td>1319.5</td>\n",
       "      <td>400.371207</td>\n",
       "      <td>442.0</td>\n",
       "      <td>1913.0</td>\n",
       "      <td>1319.5</td>\n",
       "      <td>522.793103</td>\n",
       "      <td>506.0</td>\n",
       "      <td>181.810508</td>\n",
       "      <td>222.0</td>\n",
       "      <td>800.0</td>\n",
       "      <td>506.0</td>\n",
       "    </tr>\n",
       "    <tr>\n",
       "      <th>Test Campaign</th>\n",
       "      <td>881.533333</td>\n",
       "      <td>974.0</td>\n",
       "      <td>347.584248</td>\n",
       "      <td>278.0</td>\n",
       "      <td>1391.0</td>\n",
       "      <td>974.0</td>\n",
       "      <td>521.233333</td>\n",
       "      <td>500.0</td>\n",
       "      <td>211.047745</td>\n",
       "      <td>238.0</td>\n",
       "      <td>890.0</td>\n",
       "      <td>500.0</td>\n",
       "    </tr>\n",
       "  </tbody>\n",
       "</table>\n",
       "</div>"
      ],
      "text/plain": [
       "                 Number of Add to Cart                                     \\\n",
       "                                  mean  median         std    min     max   \n",
       "Campaign Name                                                               \n",
       "Control Campaign           1300.000000  1319.5  400.371207  442.0  1913.0   \n",
       "Test Campaign               881.533333   974.0  347.584248  278.0  1391.0   \n",
       "\n",
       "                          Number of Purchase                                   \\\n",
       "                 quantile               mean median         std    min    max   \n",
       "Campaign Name                                                                   \n",
       "Control Campaign   1319.5         522.793103  506.0  181.810508  222.0  800.0   \n",
       "Test Campaign       974.0         521.233333  500.0  211.047745  238.0  890.0   \n",
       "\n",
       "                           \n",
       "                 quantile  \n",
       "Campaign Name              \n",
       "Control Campaign    506.0  \n",
       "Test Campaign       500.0  "
      ]
     },
     "execution_count": 30,
     "metadata": {},
     "output_type": "execute_result"
    }
   ],
   "source": [
    "campaign_grouped.head()"
   ]
  },
  {
   "cell_type": "code",
   "execution_count": 25,
   "metadata": {},
   "outputs": [
    {
     "data": {
      "image/png": "[encoded data removed]",
      "text/plain": [
       "<Figure size 640x480 with 1 Axes>"
      ]
     },
     "metadata": {},
     "output_type": "display_data"
    }
   ],
   "source": [
    "# Box plot for distribution\n",
    "sns.boxplot(x='Campaign Name', y='Number of Purchase', data=dataset)\n",
    "plt.title('Distribution of Number of Purchase by Campaign Type')\n",
    "plt.show()"
   ]
  },
  {
   "cell_type": "markdown",
   "metadata": {},
   "source": [
    "> Both campaigns have similar mean values for the number of purchases, which suggests that on average, the campaigns are performing similarly in terms of driving purchases.  \n",
    "**Test Campaign**: Exhibits a wider spread, with purchases ranging from around 300 to 700, indicating greater variability in performance. This could imply that some of the test campaigns are performing significantly better or worse than others.  \n",
    "**Control Campaign**: Shows a narrower range (380 to 670), indicating more consistent performance with fewer outliers.  "
   ]
  },
  {
   "cell_type": "code",
   "execution_count": 26,
   "metadata": {},
   "outputs": [
    {
     "data": {
      "image/png": "[encoded data removed]",
      "text/plain": [
       "<Figure size 640x480 with 1 Axes>"
      ]
     },
     "metadata": {},
     "output_type": "display_data"
    }
   ],
   "source": [
    "sns.boxplot(x='Campaign Name', y='Number of Add to Cart', data=dataset)\n",
    "plt.title('Distribution of Number of Add to Cart by Campaign Type')\n",
    "plt.show()"
   ]
  },
  {
   "cell_type": "markdown",
   "metadata": {},
   "source": [
    "> The control campaign has a higher mean for the number of add to carts compared to the test campaign. This suggests that, on average, the control campaign is more effective in getting users to add items to their carts.  \n",
    "**Control Campaign**: Starts at a higher baseline (960) and has a more extensive range (up to 1630), indicating that the control campaign consistently drives higher add-to-cart actions across its campaigns.  \n",
    "**Test Campaign**: Starts at a lower baseline (600) and has a narrower range (up to 1150), suggesting lower and less variable add-to-cart actions compared to the control campaign."
   ]
  },
  {
   "cell_type": "code",
   "execution_count": 31,
   "metadata": {},
   "outputs": [],
   "source": [
    "# Sum of purchases for each campaign type\n",
    "purchase_counts = dataset.groupby('Campaign Name')['Number of Purchase'].sum()"
   ]
  },
  {
   "cell_type": "code",
   "execution_count": 33,
   "metadata": {},
   "outputs": [
    {
     "data": {
      "image/png": "[encoded data removed]",
      "text/plain": [
       "<Figure size 640x480 with 1 Axes>"
      ]
     },
     "metadata": {},
     "output_type": "display_data"
    }
   ],
   "source": [
    "# Plotting the pie chart\n",
    "plt.pie(purchase_counts, labels=purchase_counts.index, autopct='%1.1f%%', colors=['lightblue', 'pink'])\n",
    "plt.title('Proportion of Purchases by Campaign Type')\n",
    "plt.show()"
   ]
  },
  {
   "cell_type": "markdown",
   "metadata": {},
   "source": [
    "> Out of all purchases recorded in the dataset, 50.1% were made through the Control Campaign and 49.9% through the Test Campaign."
   ]
  },
  {
   "cell_type": "code",
   "execution_count": 34,
   "metadata": {},
   "outputs": [
    {
     "data": {
      "image/png": "[encoded data removed]",
      "text/plain": [
       "<Figure size 640x480 with 1 Axes>"
      ]
     },
     "metadata": {},
     "output_type": "display_data"
    }
   ],
   "source": [
    "addCart_counts = dataset.groupby('Campaign Name')['Number of Add to Cart'].sum()\n",
    "# Plotting the pie chart\n",
    "plt.pie(addCart_counts, labels=addCart_counts.index, autopct='%1.1f%%', colors=['lightblue', 'pink'])\n",
    "plt.title('Proportion of Number of Add to Cart')\n",
    "plt.show()"
   ]
  },
  {
   "cell_type": "markdown",
   "metadata": {},
   "source": [
    "> \"Out of all users who added products to their cart, 59.6% were from the Control Campaign, while the remaining 40.4% were from the Test Campaign!"
   ]
  },
  {
   "cell_type": "markdown",
   "metadata": {},
   "source": []
  }
 ],
 "metadata": {
  "kernelspec": {
   "display_name": "Python 3",
   "language": "python",
   "name": "python3"
  },
  "language_info": {
   "codemirror_mode": {
    "name": "ipython",
    "version": 3
   },
   "file_extension": ".py",
   "mimetype": "text/x-python",
   "name": "python",
   "nbconvert_exporter": "python",
   "pygments_lexer": "ipython3",
   "version": "3.12.2"
  }
 },
 "nbformat": 4,
 "nbformat_minor": 2
}
