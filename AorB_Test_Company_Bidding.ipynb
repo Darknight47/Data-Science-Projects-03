{
 "cells": [
  {
   "cell_type": "markdown",
   "metadata": {},
   "source": [
    "## Main Goal\n",
    "A company recently introduced a new bidding type, “average bidding”, as an alternative to its exisiting bidding type, called “maximum bidding”!  \n",
    "One of our clients, TEST.com, has decided to test this new feature and wants to conduct an A/B test to understand if average bidding brings more conversions than maximum bidding.\n",
    "\n",
    "The A/B test has run for 1 month and TEST.com now expects you to analyze and present the results of this A/B test.\n",
    "\n",
    "> **A/B testing** helps in finding a better approach to finding customers, marketing products, getting a higher reach, or anything that helps a business convert most of its target customers into actual customers.\n",
    "\n",
    "### Data Understanding\n",
    "The dataset has the following features:\n",
    "\n",
    "1. **Campaign Name**: The name of the campaign\n",
    "2. **Date**: Date of the record\n",
    "3. **Spend**: Amount spent on the campaign in dollars\n",
    "4. **of Impressions**: Number of impressions the ad crossed through the campaign\n",
    "5. **Reach**: The number of unique impressions received in the ad\n",
    "6. **of Website Clicks**: Number of website clicks received through the ads\n",
    "7. **of Searches**: Number of users who performed searches on the website \n",
    "8. **of View Content**: Number of users who viewed content and products on the website\n",
    "9. **of Add to Cart**: Number of users who added products to the cart\n",
    "10. **of Purchase**: Number of purchases\n",
    "\n",
    "The dataset can be found at: [https://www.kaggle.com/datasets/ilkeryildiz/example-dataset-for-ab-test]"
   ]
  },
  {
   "cell_type": "code",
   "execution_count": 1,
   "metadata": {},
   "outputs": [],
   "source": [
    "import pandas as pd"
   ]
  },
  {
   "cell_type": "code",
   "execution_count": 3,
   "metadata": {},
   "outputs": [],
   "source": [
    "control_data = pd.read_csv(\"datasets/ab/control_group.csv\")\n",
    "test_data = pd.read_csv(\"datasets/ab/test_group.csv\")"
   ]
  },
  {
   "cell_type": "markdown",
   "metadata": {},
   "source": []
  }
 ],
 "metadata": {
  "kernelspec": {
   "display_name": "Python 3",
   "language": "python",
   "name": "python3"
  },
  "language_info": {
   "codemirror_mode": {
    "name": "ipython",
    "version": 3
   },
   "file_extension": ".py",
   "mimetype": "text/x-python",
   "name": "python",
   "nbconvert_exporter": "python",
   "pygments_lexer": "ipython3",
   "version": "3.12.2"
  }
 },
 "nbformat": 4,
 "nbformat_minor": 2
}
