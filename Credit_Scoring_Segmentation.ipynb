{
 "cells": [
  {
   "cell_type": "markdown",
   "metadata": {},
   "source": [
    "## Main Objective\n",
    "The goal of this project is to design a robust machine learning pipeline that:\n",
    "\n",
    "1. **Classifies individuals** into predefined credit score categories (e.g., Bad, Standard, Good) based on financial and behavioral features.\n",
    "2. **Predicts the exact credit score value** to provide a more granular and personalized analysis.\n",
    "\n",
    "### Data Understanding\n",
    "1. **ID**: Represents the unique identity of an entry.\n",
    "2. **Customer_ID**: Represents the unique identity of a person.\n",
    "3. **Month**: Represents the month of the year.\n",
    "4. **Name**: Represents a person's name.\n",
    "5. **Age**: Represents the person's age.\n",
    "6. **SSN**: Represents the person's Social Security Number.\n",
    "7. **Occupation**: Represents the person's occupation.\n",
    "8. **Annual_Income**: Represents the person's annual income.\n",
    "9. **Monthly_Inhand_Salary**: Represents the person's monthly net salary.\n",
    "10. **Num_Bank_Accounts**: Represents the number of bank accounts the person has.\n",
    "11. **Num_Credit_Card**: Represents the number of additional credit cards the person has.\n",
    "12. **Interest_Rate**: Represents the credit card interest rate.\n",
    "13. **Num_of_Loan**: Represents the number of loans taken from the bank.\n",
    "14. **Type_of_Loan**: Represents the types of loans the person has taken.\n",
    "15. **Delay_from_due_date**: Represents the average number of days delayed from the due date of payment.\n",
    "16. **Num_of_Delayed_Payment**: Represents the number of delayed payments the person has made.\n",
    "17. **Changed_Credit_Limit**: Represents the percentage change in the credit card limit.\n",
    "18. **Num_Credit_Inquiries**: Represents the number of credit card inquiries.\n",
    "19. **Credit_Mix**: Represents the classification of the credit mix.\n",
    "20. **Outstanding_Debt**: Represents the remaining outstanding debt (in USD).\n",
    "21. **Credit_Utilization_Ratio**: Represents the credit card utilization ratio.\n",
    "22. **Credit_History_Age**: Represents the age of the person's credit history.\n",
    "23. **Payment_of_Min_Amount**: Represents whether the person only pays the minimum amount due.\n",
    "24. **Total_EMI_per_month**: Represents the monthly EMI payments (in USD).\n",
    "25. **Amount_invested_monthly**: Represents the amount invested by the customer monthly (in USD).\n",
    "26. **Payment_Behaviour**: Represents the customer's payment behavior.\n",
    "27. **Monthly_Balance**: Represents the customer's monthly balance amount (in USD).\n",
    "28. **Credit_Score**: Represents the credit score range (Bad, Standard, Good).\n",
    "\n",
    "The dataset can be found at: [https://www.kaggle.com/datasets/parisrohan/credit-score-classification/data]"
   ]
  },
  {
   "cell_type": "code",
   "execution_count": 3,
   "metadata": {},
   "outputs": [],
   "source": [
    "import pandas as pd\n",
    "import numpy as np\n",
    "import seaborn as sns\n",
    "import matplotlib.pyplot as plt"
   ]
  },
  {
   "cell_type": "code",
   "execution_count": 4,
   "metadata": {},
   "outputs": [],
   "source": [
    "dataset = pd.read_csv(\"datasets/credit_scoring/train.csv\", dtype={'Monthly_Balance': 'str'})"
   ]
  },
  {
   "cell_type": "code",
   "execution_count": 5,
   "metadata": {},
   "outputs": [
    {
     "data": {
      "text/html": [
       "<div>\n",
       "<style scoped>\n",
       "    .dataframe tbody tr th:only-of-type {\n",
       "        vertical-align: middle;\n",
       "    }\n",
       "\n",
       "    .dataframe tbody tr th {\n",
       "        vertical-align: top;\n",
       "    }\n",
       "\n",
       "    .dataframe thead th {\n",
       "        text-align: right;\n",
       "    }\n",
       "</style>\n",
       "<table border=\"1\" class=\"dataframe\">\n",
       "  <thead>\n",
       "    <tr style=\"text-align: right;\">\n",
       "      <th></th>\n",
       "      <th>ID</th>\n",
       "      <th>Customer_ID</th>\n",
       "      <th>Month</th>\n",
       "      <th>Name</th>\n",
       "      <th>Age</th>\n",
       "      <th>SSN</th>\n",
       "      <th>Occupation</th>\n",
       "      <th>Annual_Income</th>\n",
       "      <th>Monthly_Inhand_Salary</th>\n",
       "      <th>Num_Bank_Accounts</th>\n",
       "      <th>...</th>\n",
       "      <th>Credit_Mix</th>\n",
       "      <th>Outstanding_Debt</th>\n",
       "      <th>Credit_Utilization_Ratio</th>\n",
       "      <th>Credit_History_Age</th>\n",
       "      <th>Payment_of_Min_Amount</th>\n",
       "      <th>Total_EMI_per_month</th>\n",
       "      <th>Amount_invested_monthly</th>\n",
       "      <th>Payment_Behaviour</th>\n",
       "      <th>Monthly_Balance</th>\n",
       "      <th>Credit_Score</th>\n",
       "    </tr>\n",
       "  </thead>\n",
       "  <tbody>\n",
       "    <tr>\n",
       "      <th>0</th>\n",
       "      <td>0x1602</td>\n",
       "      <td>CUS_0xd40</td>\n",
       "      <td>January</td>\n",
       "      <td>Aaron Maashoh</td>\n",
       "      <td>23</td>\n",
       "      <td>821-00-0265</td>\n",
       "      <td>Scientist</td>\n",
       "      <td>19114.12</td>\n",
       "      <td>1824.843333</td>\n",
       "      <td>3</td>\n",
       "      <td>...</td>\n",
       "      <td>_</td>\n",
       "      <td>809.98</td>\n",
       "      <td>26.82262</td>\n",
       "      <td>22 Years and 1 Months</td>\n",
       "      <td>No</td>\n",
       "      <td>49.574949</td>\n",
       "      <td>80.41529543900253</td>\n",
       "      <td>High_spent_Small_value_payments</td>\n",
       "      <td>312.49408867943663</td>\n",
       "      <td>Good</td>\n",
       "    </tr>\n",
       "    <tr>\n",
       "      <th>1</th>\n",
       "      <td>0x1603</td>\n",
       "      <td>CUS_0xd40</td>\n",
       "      <td>February</td>\n",
       "      <td>Aaron Maashoh</td>\n",
       "      <td>23</td>\n",
       "      <td>821-00-0265</td>\n",
       "      <td>Scientist</td>\n",
       "      <td>19114.12</td>\n",
       "      <td>NaN</td>\n",
       "      <td>3</td>\n",
       "      <td>...</td>\n",
       "      <td>Good</td>\n",
       "      <td>809.98</td>\n",
       "      <td>31.94496</td>\n",
       "      <td>NaN</td>\n",
       "      <td>No</td>\n",
       "      <td>49.574949</td>\n",
       "      <td>118.28022162236736</td>\n",
       "      <td>Low_spent_Large_value_payments</td>\n",
       "      <td>284.62916249607184</td>\n",
       "      <td>Good</td>\n",
       "    </tr>\n",
       "  </tbody>\n",
       "</table>\n",
       "<p>2 rows × 28 columns</p>\n",
       "</div>"
      ],
      "text/plain": [
       "       ID Customer_ID     Month           Name Age          SSN Occupation  \\\n",
       "0  0x1602   CUS_0xd40   January  Aaron Maashoh  23  821-00-0265  Scientist   \n",
       "1  0x1603   CUS_0xd40  February  Aaron Maashoh  23  821-00-0265  Scientist   \n",
       "\n",
       "  Annual_Income  Monthly_Inhand_Salary  Num_Bank_Accounts  ...  Credit_Mix  \\\n",
       "0      19114.12            1824.843333                  3  ...           _   \n",
       "1      19114.12                    NaN                  3  ...        Good   \n",
       "\n",
       "   Outstanding_Debt Credit_Utilization_Ratio     Credit_History_Age  \\\n",
       "0            809.98                 26.82262  22 Years and 1 Months   \n",
       "1            809.98                 31.94496                    NaN   \n",
       "\n",
       "   Payment_of_Min_Amount Total_EMI_per_month Amount_invested_monthly  \\\n",
       "0                     No           49.574949       80.41529543900253   \n",
       "1                     No           49.574949      118.28022162236736   \n",
       "\n",
       "                 Payment_Behaviour     Monthly_Balance Credit_Score  \n",
       "0  High_spent_Small_value_payments  312.49408867943663         Good  \n",
       "1   Low_spent_Large_value_payments  284.62916249607184         Good  \n",
       "\n",
       "[2 rows x 28 columns]"
      ]
     },
     "execution_count": 5,
     "metadata": {},
     "output_type": "execute_result"
    }
   ],
   "source": [
    "dataset.head(2)"
   ]
  },
  {
   "cell_type": "code",
   "execution_count": 6,
   "metadata": {},
   "outputs": [
    {
     "name": "stdout",
     "output_type": "stream",
     "text": [
      "<class 'pandas.core.frame.DataFrame'>\n",
      "RangeIndex: 100000 entries, 0 to 99999\n",
      "Data columns (total 28 columns):\n",
      " #   Column                    Non-Null Count   Dtype  \n",
      "---  ------                    --------------   -----  \n",
      " 0   ID                        100000 non-null  object \n",
      " 1   Customer_ID               100000 non-null  object \n",
      " 2   Month                     100000 non-null  object \n",
      " 3   Name                      90015 non-null   object \n",
      " 4   Age                       100000 non-null  object \n",
      " 5   SSN                       100000 non-null  object \n",
      " 6   Occupation                100000 non-null  object \n",
      " 7   Annual_Income             100000 non-null  object \n",
      " 8   Monthly_Inhand_Salary     84998 non-null   float64\n",
      " 9   Num_Bank_Accounts         100000 non-null  int64  \n",
      " 10  Num_Credit_Card           100000 non-null  int64  \n",
      " 11  Interest_Rate             100000 non-null  int64  \n",
      " 12  Num_of_Loan               100000 non-null  object \n",
      " 13  Type_of_Loan              88592 non-null   object \n",
      " 14  Delay_from_due_date       100000 non-null  int64  \n",
      " 15  Num_of_Delayed_Payment    92998 non-null   object \n",
      " 16  Changed_Credit_Limit      100000 non-null  object \n",
      " 17  Num_Credit_Inquiries      98035 non-null   float64\n",
      " 18  Credit_Mix                100000 non-null  object \n",
      " 19  Outstanding_Debt          100000 non-null  object \n",
      " 20  Credit_Utilization_Ratio  100000 non-null  float64\n",
      " 21  Credit_History_Age        90970 non-null   object \n",
      " 22  Payment_of_Min_Amount     100000 non-null  object \n",
      " 23  Total_EMI_per_month       100000 non-null  float64\n",
      " 24  Amount_invested_monthly   95521 non-null   object \n",
      " 25  Payment_Behaviour         100000 non-null  object \n",
      " 26  Monthly_Balance           98800 non-null   object \n",
      " 27  Credit_Score              100000 non-null  object \n",
      "dtypes: float64(4), int64(4), object(20)\n",
      "memory usage: 21.4+ MB\n"
     ]
    }
   ],
   "source": [
    "dataset.info()"
   ]
  },
  {
   "cell_type": "code",
   "execution_count": 7,
   "metadata": {},
   "outputs": [
    {
     "data": {
      "text/plain": [
       "ID                              0\n",
       "Customer_ID                     0\n",
       "Month                           0\n",
       "Name                         9985\n",
       "Age                             0\n",
       "SSN                             0\n",
       "Occupation                      0\n",
       "Annual_Income                   0\n",
       "Monthly_Inhand_Salary       15002\n",
       "Num_Bank_Accounts               0\n",
       "Num_Credit_Card                 0\n",
       "Interest_Rate                   0\n",
       "Num_of_Loan                     0\n",
       "Type_of_Loan                11408\n",
       "Delay_from_due_date             0\n",
       "Num_of_Delayed_Payment       7002\n",
       "Changed_Credit_Limit            0\n",
       "Num_Credit_Inquiries         1965\n",
       "Credit_Mix                      0\n",
       "Outstanding_Debt                0\n",
       "Credit_Utilization_Ratio        0\n",
       "Credit_History_Age           9030\n",
       "Payment_of_Min_Amount           0\n",
       "Total_EMI_per_month             0\n",
       "Amount_invested_monthly      4479\n",
       "Payment_Behaviour               0\n",
       "Monthly_Balance              1200\n",
       "Credit_Score                    0\n",
       "dtype: int64"
      ]
     },
     "execution_count": 7,
     "metadata": {},
     "output_type": "execute_result"
    }
   ],
   "source": [
    "dataset.isnull().sum()"
   ]
  },
  {
   "cell_type": "markdown",
   "metadata": {},
   "source": [
    "### Dealing With Null Values"
   ]
  },
  {
   "cell_type": "code",
   "execution_count": 8,
   "metadata": {},
   "outputs": [],
   "source": [
    "dataset_cpy = dataset.copy()"
   ]
  },
  {
   "cell_type": "markdown",
   "metadata": {},
   "source": [
    "##### 'Name' feature\n",
    "> Removing this column/feature as it doesn't provide any value for our task!"
   ]
  },
  {
   "cell_type": "code",
   "execution_count": 9,
   "metadata": {},
   "outputs": [],
   "source": [
    "# The 'Name' column. It doesn’t seem to provide any direct predictive value for tasks like credit score classification or prediction, as names are not correlated with financial behavior or creditworthiness.\n",
    "dataset_cpy = dataset_cpy.drop(columns=['Name'], axis=1)"
   ]
  },
  {
   "cell_type": "markdown",
   "metadata": {},
   "source": [
    "##### 'Monthly_Inhand_Salary' feature\n",
    "> The value for each user is constant therefore we can impute the missing values for each user by filling them with the first non-null value available for that user!"
   ]
  },
  {
   "cell_type": "code",
   "execution_count": 10,
   "metadata": {},
   "outputs": [],
   "source": [
    "# The 'Monthly_Inhand_Salary' for a user is constant, we can impute the missing values for each user by filling them with the first non-null value available for that user.\n",
    "dataset_cpy['Monthly_Inhand_Salary'] = dataset_cpy.groupby('Customer_ID')['Monthly_Inhand_Salary'].transform(\n",
    "    lambda x: x.ffill().bfill()\n",
    ")\n",
    "# Combined, ffill().bfill() ensures all missing values in a group are filled using valid values from both directions. (Both forward and backward filling.)"
   ]
  },
  {
   "cell_type": "markdown",
   "metadata": {},
   "source": [
    "##### 'Type_of_Loan' feature\n",
    "> The 'Type_of_Loan' values for each user is constant therefore we can impute the missing values for each user by filling them with the first non-null value available for that user!"
   ]
  },
  {
   "cell_type": "code",
   "execution_count": null,
   "metadata": {},
   "outputs": [],
   "source": [
    "# The 'Type_of_Loan' for a user is constant, we can impute the missing values for each user by filling them with the first non-null value available for the user.\n",
    "dataset_cpy['Type_of_Loan'] = dataset_cpy.groupby('Customer_ID')['Type_of_Loan'].transform(\n",
    "    lambda x: x.ffill().bfill().astype(str)\n",
    ")\n",
    "# Combined, ffill().bfill() ensures all missing values in a group are filled using valid values from both directions.\n",
    "# .infer_objects() to ensure the result has the proper dtype inference (e.g., converting object arrays back to strings)"
   ]
  },
  {
   "cell_type": "markdown",
   "metadata": {},
   "source": [
    "##### 'Num_Credit_Inquiries' feature\n",
    "> The 'Num_Credit_Inquiries' values for each user is constant therefore we can impute the missing values for each user by filling them with the first non-null value available for that user!"
   ]
  },
  {
   "cell_type": "code",
   "execution_count": 12,
   "metadata": {},
   "outputs": [],
   "source": [
    "# The 'Num_Credit_Inquiries' for a user is constant, we cn impute the missing value for each user by filling them with the first non-null value available for the user.\n",
    "dataset_cpy['Num_Credit_Inquiries'] = dataset_cpy.groupby('Customer_ID')['Num_Credit_Inquiries'].transform(\n",
    "    lambda x: x.ffill().bfill()\n",
    ")"
   ]
  },
  {
   "cell_type": "markdown",
   "metadata": {},
   "source": [
    "##### 'Credit_History_Age' feature\n",
    "> By default the format of this feature is \"22 Years and 1 Months\"!  \n",
    "We first convert this feature to number months by multiplying the number of years with 12 and adding the month.  \n",
    "For dealing with NaN values, as the months increases by one, we fill the NaN values of a user by either increasing the previous month or decreasing the following month of the user. The choice is based on the location of NaN value!"
   ]
  },
  {
   "cell_type": "code",
   "execution_count": 13,
   "metadata": {},
   "outputs": [],
   "source": [
    "# For counting the number of months of user's credit history.\n",
    "def convert_to_months(value):\n",
    "    if pd.isnull(value):  # Check if the value is NaN\n",
    "        return 0  \n",
    "    years, months = map(int, value.replace('Years', '').replace('Months', '').split('and'))\n",
    "    return years * 12 + months"
   ]
  },
  {
   "cell_type": "code",
   "execution_count": 14,
   "metadata": {},
   "outputs": [],
   "source": [
    "dataset_cpy['Credit_History_Age'] = dataset_cpy['Credit_History_Age'].apply(convert_to_months)"
   ]
  },
  {
   "cell_type": "code",
   "execution_count": 15,
   "metadata": {},
   "outputs": [],
   "source": [
    "def fix_credit_history_age(dataset):\n",
    "    # Group dataset by Customer_ID\n",
    "    grouped = dataset.groupby('Customer_ID')\n",
    "    \n",
    "    # Iterate through each user group\n",
    "    for user_id, group in grouped:\n",
    "        # Get the indices for the group\n",
    "        indices = group.index\n",
    "        \n",
    "        # Fix the first row if its value is 0\n",
    "        if dataset.loc[indices[0], 'Credit_History_Age'] == 0:\n",
    "            dataset.loc[indices[0], 'Credit_History_Age'] = dataset.loc[indices[1], 'Credit_History_Age'] - 1\n",
    "        \n",
    "        # Set the first row's value as the starting value\n",
    "        start_value = dataset.loc[indices[0], 'Credit_History_Age']\n",
    "        \n",
    "        # Loop through the 8 rows for the user and increment the value by 1\n",
    "        for i in range(8):\n",
    "            dataset.loc[indices[i], 'Credit_History_Age'] = start_value + i\n",
    "            \n",
    "    return dataset"
   ]
  },
  {
   "cell_type": "code",
   "execution_count": 16,
   "metadata": {},
   "outputs": [],
   "source": [
    "# Apply the function to each user group\n",
    "dataset_cpy = fix_credit_history_age(dataset=dataset_cpy)"
   ]
  },
  {
   "cell_type": "markdown",
   "metadata": {},
   "source": [
    "##### 'Amount_invested_monthly' feature\n",
    "> After converting the feature from string to numeric one. We fill the NaN or missing values of a user with the mean or average monthly invested value of the user!"
   ]
  },
  {
   "cell_type": "code",
   "execution_count": 17,
   "metadata": {},
   "outputs": [],
   "source": [
    "# Replacing non-standard numeric strings with NaN\n",
    "dataset_cpy['Amount_invested_monthly'] = dataset_cpy['Amount_invested_monthly'].str.replace(r'[^\\d\\.]', '', regex=True)"
   ]
  },
  {
   "cell_type": "code",
   "execution_count": 18,
   "metadata": {},
   "outputs": [],
   "source": [
    "# Convert the string values to numeric \n",
    "# Any value that can't be converted will automatically became NaN when \"errors='coerce'\" is specificed!\n",
    "dataset_cpy['Amount_invested_monthly'] = pd.to_numeric(dataset_cpy['Amount_invested_monthly'], errors='coerce')"
   ]
  },
  {
   "cell_type": "code",
   "execution_count": 19,
   "metadata": {},
   "outputs": [],
   "source": [
    "def fill_nan_in_batches(column, batch_size = 8):\n",
    "    # batch_size = 8 because each user has 8 rows in the dataset.\n",
    "    # converting column to a numpy array for easier manipulaton\n",
    "    values = column.values\n",
    "\n",
    "    # Looping through that data in batches \n",
    "    for i in range(0, len(values), batch_size):\n",
    "        batch = values[i:i+batch_size] # Extract the batch\n",
    "        mean_value = np.nanmean(batch) # calculating the mean\n",
    "\n",
    "        # Filling NaN values with the calculating mean for this batch\n",
    "        batch[np.isnan(batch)] = mean_value\n",
    "\n",
    "        # Replace the original value with the processed batch\n",
    "        values[i:i+batch_size] = batch\n",
    "    \n",
    "    # Returning the updated column as a Pandas series\n",
    "    return pd.Series(values, index=column.index)"
   ]
  },
  {
   "cell_type": "code",
   "execution_count": 20,
   "metadata": {},
   "outputs": [],
   "source": [
    "# We fill the 'NaN' values of this feature with the average value of each user.\n",
    "# Batch user of 8 because each user has 8 rows.\n",
    "dataset_cpy['Amount_invested_monthly'] = fill_nan_in_batches(dataset_cpy['Amount_invested_monthly'], batch_size=8)"
   ]
  },
  {
   "cell_type": "markdown",
   "metadata": {},
   "source": [
    "##### 'Monthly_Balance' feature\n",
    "> After converting the feature from string to numeric one. We fill the NaN or missing values of a user with the mean or average monthly balanced value of the user!"
   ]
  },
  {
   "cell_type": "code",
   "execution_count": 21,
   "metadata": {},
   "outputs": [],
   "source": [
    "# Replacing non-standard numeric strings with NaN\n",
    "dataset_cpy['Monthly_Balance'] = dataset_cpy['Monthly_Balance'].str.replace(r'[^\\d\\.]', '', regex=True)\n",
    "# Convert the String values to Numeric. Having errors='coerce' makes all the values that can't get converted to NaN\n",
    "dataset_cpy['Monthly_Balance'] = pd.to_numeric(dataset_cpy['Monthly_Balance'], errors='coerce')"
   ]
  },
  {
   "cell_type": "code",
   "execution_count": 22,
   "metadata": {},
   "outputs": [],
   "source": [
    "# Filling the NaN values with the average Monthly balance value for each user.\n",
    "# Batch user of 8 because each user has 8 rows.\n",
    "dataset_cpy['Monthly_Balance'] = fill_nan_in_batches(dataset_cpy['Monthly_Balance'], batch_size=8)"
   ]
  },
  {
   "cell_type": "markdown",
   "metadata": {},
   "source": [
    "##### 'Num_of_Delayed_Payment' feature\n",
    "> Filling the missing value of each with its average number of delayed payments."
   ]
  },
  {
   "cell_type": "code",
   "execution_count": 23,
   "metadata": {},
   "outputs": [],
   "source": [
    "# Remove unwanted characters and convert to numeric, invalid parsing becomes NaN\n",
    "dataset_cpy['Num_of_Delayed_Payment'] = dataset_cpy['Num_of_Delayed_Payment'].str.replace(r'[^\\d]', '', regex=True)\n",
    "dataset_cpy['Num_of_Delayed_Payment'] = pd.to_numeric(dataset_cpy['Num_of_Delayed_Payment'], errors='coerce')"
   ]
  },
  {
   "cell_type": "code",
   "execution_count": 24,
   "metadata": {},
   "outputs": [],
   "source": [
    "# Filling the NaN values with the average value, each user has 8 rows.\n",
    "dataset_cpy['Num_of_Delayed_Payment'] = fill_nan_in_batches(dataset_cpy['Num_of_Delayed_Payment'], batch_size=8)"
   ]
  },
  {
   "cell_type": "code",
   "execution_count": 25,
   "metadata": {},
   "outputs": [
    {
     "data": {
      "text/plain": [
       "ID                          0\n",
       "Customer_ID                 0\n",
       "Month                       0\n",
       "Age                         0\n",
       "SSN                         0\n",
       "Occupation                  0\n",
       "Annual_Income               0\n",
       "Monthly_Inhand_Salary       0\n",
       "Num_Bank_Accounts           0\n",
       "Num_Credit_Card             0\n",
       "Interest_Rate               0\n",
       "Num_of_Loan                 0\n",
       "Type_of_Loan                0\n",
       "Delay_from_due_date         0\n",
       "Num_of_Delayed_Payment      0\n",
       "Changed_Credit_Limit        0\n",
       "Num_Credit_Inquiries        0\n",
       "Credit_Mix                  0\n",
       "Outstanding_Debt            0\n",
       "Credit_Utilization_Ratio    0\n",
       "Credit_History_Age          0\n",
       "Payment_of_Min_Amount       0\n",
       "Total_EMI_per_month         0\n",
       "Amount_invested_monthly     0\n",
       "Payment_Behaviour           0\n",
       "Monthly_Balance             0\n",
       "Credit_Score                0\n",
       "dtype: int64"
      ]
     },
     "execution_count": 25,
     "metadata": {},
     "output_type": "execute_result"
    }
   ],
   "source": [
    "dataset_cpy.isnull().sum()"
   ]
  },
  {
   "cell_type": "markdown",
   "metadata": {},
   "source": [
    "### Data Preprocessing\n",
    "##### 'Age' feature"
   ]
  },
  {
   "cell_type": "code",
   "execution_count": 26,
   "metadata": {},
   "outputs": [],
   "source": [
    "# Replacing non-standard values with NaN\n",
    "dataset_cpy['Age'] = dataset_cpy['Age'].str.replace(r'[^\\d]', '', regex=True)\n",
    "# Converting from string values to numeric! errors='coerce' makes those values that can't be converted become NaN.\n",
    "dataset_cpy['Age'] = pd.to_numeric(dataset_cpy['Age'], errors='coerce')"
   ]
  },
  {
   "cell_type": "code",
   "execution_count": 27,
   "metadata": {},
   "outputs": [],
   "source": [
    "# Defining a realistic age range\n",
    "valid_age_range = (0, 120)\n",
    "# Replacing Outliers or Non-realistic age values with NaN\n",
    "dataset_cpy['Age'] = dataset_cpy['Age'].apply(\n",
    "    lambda x: x if valid_age_range[0] <= x <= valid_age_range[1] else np.nan\n",
    ")"
   ]
  },
  {
   "cell_type": "code",
   "execution_count": 28,
   "metadata": {},
   "outputs": [],
   "source": [
    "# Dealing with NaN values.\n",
    "dataset_cpy['Age'] = dataset_cpy.groupby('Customer_ID')['Age'].transform(\n",
    "    lambda x: x.ffill().bfill()\n",
    ")"
   ]
  },
  {
   "cell_type": "markdown",
   "metadata": {},
   "source": [
    "##### 'Annual_Income' feature"
   ]
  },
  {
   "cell_type": "code",
   "execution_count": 29,
   "metadata": {},
   "outputs": [],
   "source": [
    "# Replacing non-standard values with NaN\n",
    "dataset_cpy['Annual_Income'] = dataset_cpy['Annual_Income'].str.replace(r'[^\\d]', '', regex=True)\n",
    "# Converting string values to the numeric!\n",
    "dataset_cpy['Annual_Income'] = pd.to_numeric(dataset_cpy['Annual_Income'], errors='coerce')"
   ]
  },
  {
   "cell_type": "markdown",
   "metadata": {},
   "source": [
    "##### 'Num_of_Loan' feature"
   ]
  },
  {
   "cell_type": "code",
   "execution_count": 30,
   "metadata": {},
   "outputs": [],
   "source": [
    "# Replacing non-standard values with NaN\n",
    "dataset_cpy['Num_of_Loan'] = dataset_cpy['Num_of_Loan'].str.replace(r'[^\\d]', '', regex=True)\n",
    "# Converting string values to the numeric! errors='coerce' automatically sets the values that can't get converted to NaN!\n",
    "dataset_cpy['Num_of_Loan'] = pd.to_numeric(dataset_cpy['Num_of_Loan'], errors='coerce')"
   ]
  },
  {
   "cell_type": "code",
   "execution_count": 31,
   "metadata": {},
   "outputs": [],
   "source": [
    "# Replacing outliers with group mode\n",
    "def enforce_column_consistency(column, batch_size=8):\n",
    "    # a temporary group identifier\n",
    "    group_ids = column.index // batch_size\n",
    "    consistent_column = column.groupby(group_ids).transform(\n",
    "        lambda x: x.mode()[0]\n",
    "    )\n",
    "    return consistent_column"
   ]
  },
  {
   "cell_type": "code",
   "execution_count": 32,
   "metadata": {},
   "outputs": [],
   "source": [
    "dataset_cpy['Num_of_Loan'] = enforce_column_consistency(column=dataset_cpy['Num_of_Loan'], batch_size=8)"
   ]
  },
  {
   "cell_type": "markdown",
   "metadata": {},
   "source": [
    "##### 'Changed_Credit_Limit' feature"
   ]
  },
  {
   "cell_type": "code",
   "execution_count": 33,
   "metadata": {},
   "outputs": [],
   "source": [
    "# Replacing non-standard values with NaN\n",
    "dataset_cpy['Changed_Credit_Limit'] = dataset_cpy['Changed_Credit_Limit'].str.replace(r'[^\\d]', '', regex=True)\n",
    "# Converting string values to the numeric ones.\n",
    "dataset_cpy['Changed_Credit_Limit'] = pd.to_numeric(dataset_cpy['Changed_Credit_Limit'], errors='coerce')"
   ]
  },
  {
   "cell_type": "code",
   "execution_count": 34,
   "metadata": {},
   "outputs": [],
   "source": [
    "# Filling the NaN values of a user with its monthly credit card limit change.\n",
    "dataset_cpy['Changed_Credit_Limit'] = fill_nan_in_batches(column=dataset_cpy['Changed_Credit_Limit'], batch_size=8)"
   ]
  },
  {
   "cell_type": "markdown",
   "metadata": {},
   "source": [
    "##### 'Outstanding_Debt' feature"
   ]
  },
  {
   "cell_type": "code",
   "execution_count": 35,
   "metadata": {},
   "outputs": [],
   "source": [
    "# Replacing non-standard values with NaN!\n",
    "dataset_cpy['Outstanding_Debt'] = dataset_cpy['Outstanding_Debt'].str.replace(r'[^\\d]', '', regex=True)\n",
    "# Converting string values to numeric ones!\n",
    "dataset_cpy['Outstanding_Debt'] = pd.to_numeric(dataset_cpy['Outstanding_Debt'], errors='coerce')"
   ]
  },
  {
   "cell_type": "markdown",
   "metadata": {},
   "source": [
    "### Feature Selection\n",
    "#### Enforcing column consistency for consistent features"
   ]
  },
  {
   "cell_type": "code",
   "execution_count": 36,
   "metadata": {},
   "outputs": [],
   "source": [
    "constant_numerical_features = ['Customer_ID', 'Age', 'Occupation', 'Annual_Income', 'Monthly_Inhand_Salary', 'Num_Bank_Accounts', 'Num_Credit_Card', \n",
    "                               'Interest_Rate', 'Num_of_Loan', 'Type_of_Loan', 'Num_Credit_Inquiries', 'Outstanding_Debt', 'Total_EMI_per_month', 'Credit_Mix', 'Payment_of_Min_Amount']\n",
    "for feature in constant_numerical_features:\n",
    "    dataset_cpy[feature] = enforce_column_consistency(column=dataset_cpy[feature], batch_size=8)"
   ]
  },
  {
   "cell_type": "markdown",
   "metadata": {},
   "source": [
    "#### Taking mean of varying numerical features"
   ]
  },
  {
   "cell_type": "code",
   "execution_count": 37,
   "metadata": {},
   "outputs": [],
   "source": [
    "aggregated_varying_data = dataset_cpy.groupby('Customer_ID').agg({\n",
    "    'Delay_from_due_date': 'mean',\n",
    "    'Num_of_Delayed_Payment': 'mean',\n",
    "    'Changed_Credit_Limit': 'mean',\n",
    "    'Credit_Utilization_Ratio': 'mean',\n",
    "    'Credit_History_Age': 'mean',\n",
    "    'Amount_invested_monthly': 'mean',\n",
    "    'Monthly_Balance': 'mean'\n",
    "}).reset_index()"
   ]
  },
  {
   "cell_type": "markdown",
   "metadata": {},
   "source": [
    "#### Encoding the target feature"
   ]
  },
  {
   "cell_type": "code",
   "execution_count": 38,
   "metadata": {},
   "outputs": [],
   "source": [
    "# Encoding Credit_Score\n",
    "dataset_cpy['Credit_Score_Encoded'] = dataset_cpy['Credit_Score'].map({'Good': 3, 'Standard': 2, 'Poor': 1})"
   ]
  },
  {
   "cell_type": "code",
   "execution_count": 39,
   "metadata": {},
   "outputs": [],
   "source": [
    "# Aggregating mean values per user\n",
    "aggregated_credit_data = dataset_cpy.groupby('Customer_ID')['Credit_Score_Encoded'].mean().reset_index()"
   ]
  },
  {
   "cell_type": "code",
   "execution_count": 40,
   "metadata": {},
   "outputs": [
    {
     "data": {
      "text/html": [
       "<div>\n",
       "<style scoped>\n",
       "    .dataframe tbody tr th:only-of-type {\n",
       "        vertical-align: middle;\n",
       "    }\n",
       "\n",
       "    .dataframe tbody tr th {\n",
       "        vertical-align: top;\n",
       "    }\n",
       "\n",
       "    .dataframe thead th {\n",
       "        text-align: right;\n",
       "    }\n",
       "</style>\n",
       "<table border=\"1\" class=\"dataframe\">\n",
       "  <thead>\n",
       "    <tr style=\"text-align: right;\">\n",
       "      <th></th>\n",
       "      <th>Customer_ID</th>\n",
       "      <th>Credit_Score_Encoded</th>\n",
       "    </tr>\n",
       "  </thead>\n",
       "  <tbody>\n",
       "    <tr>\n",
       "      <th>0</th>\n",
       "      <td>CUS_0x1000</td>\n",
       "      <td>1.125</td>\n",
       "    </tr>\n",
       "    <tr>\n",
       "      <th>1</th>\n",
       "      <td>CUS_0x1009</td>\n",
       "      <td>2.000</td>\n",
       "    </tr>\n",
       "    <tr>\n",
       "      <th>2</th>\n",
       "      <td>CUS_0x100b</td>\n",
       "      <td>1.375</td>\n",
       "    </tr>\n",
       "    <tr>\n",
       "      <th>3</th>\n",
       "      <td>CUS_0x1011</td>\n",
       "      <td>2.000</td>\n",
       "    </tr>\n",
       "    <tr>\n",
       "      <th>4</th>\n",
       "      <td>CUS_0x1013</td>\n",
       "      <td>2.000</td>\n",
       "    </tr>\n",
       "  </tbody>\n",
       "</table>\n",
       "</div>"
      ],
      "text/plain": [
       "  Customer_ID  Credit_Score_Encoded\n",
       "0  CUS_0x1000                 1.125\n",
       "1  CUS_0x1009                 2.000\n",
       "2  CUS_0x100b                 1.375\n",
       "3  CUS_0x1011                 2.000\n",
       "4  CUS_0x1013                 2.000"
      ]
     },
     "execution_count": 40,
     "metadata": {},
     "output_type": "execute_result"
    }
   ],
   "source": [
    "aggregated_credit_data.head()"
   ]
  },
  {
   "cell_type": "code",
   "execution_count": 41,
   "metadata": {},
   "outputs": [
    {
     "data": {
      "text/html": [
       "<div>\n",
       "<style scoped>\n",
       "    .dataframe tbody tr th:only-of-type {\n",
       "        vertical-align: middle;\n",
       "    }\n",
       "\n",
       "    .dataframe tbody tr th {\n",
       "        vertical-align: top;\n",
       "    }\n",
       "\n",
       "    .dataframe thead th {\n",
       "        text-align: right;\n",
       "    }\n",
       "</style>\n",
       "<table border=\"1\" class=\"dataframe\">\n",
       "  <thead>\n",
       "    <tr style=\"text-align: right;\">\n",
       "      <th></th>\n",
       "      <th>Customer_ID</th>\n",
       "      <th>Delay_from_due_date</th>\n",
       "      <th>Num_of_Delayed_Payment</th>\n",
       "      <th>Changed_Credit_Limit</th>\n",
       "      <th>Credit_Utilization_Ratio</th>\n",
       "      <th>Credit_History_Age</th>\n",
       "      <th>Amount_invested_monthly</th>\n",
       "      <th>Monthly_Balance</th>\n",
       "    </tr>\n",
       "  </thead>\n",
       "  <tbody>\n",
       "    <tr>\n",
       "      <th>0</th>\n",
       "      <td>CUS_0x1000</td>\n",
       "      <td>62.25</td>\n",
       "      <td>25.0</td>\n",
       "      <td>188.0</td>\n",
       "      <td>33.477546</td>\n",
       "      <td>125.5</td>\n",
       "      <td>158.549735</td>\n",
       "      <td>335.375341</td>\n",
       "    </tr>\n",
       "  </tbody>\n",
       "</table>\n",
       "</div>"
      ],
      "text/plain": [
       "  Customer_ID  Delay_from_due_date  Num_of_Delayed_Payment  \\\n",
       "0  CUS_0x1000                62.25                    25.0   \n",
       "\n",
       "   Changed_Credit_Limit  Credit_Utilization_Ratio  Credit_History_Age  \\\n",
       "0                 188.0                 33.477546               125.5   \n",
       "\n",
       "   Amount_invested_monthly  Monthly_Balance  \n",
       "0               158.549735       335.375341  "
      ]
     },
     "execution_count": 41,
     "metadata": {},
     "output_type": "execute_result"
    }
   ],
   "source": [
    "aggregated_varying_data.head(1)"
   ]
  },
  {
   "cell_type": "code",
   "execution_count": 42,
   "metadata": {},
   "outputs": [],
   "source": [
    "def classify_credit_score(mean_score):\n",
    "    if mean_score <= 1.5:\n",
    "        return 'Poor'\n",
    "    elif mean_score <= 2.5:\n",
    "        return 'Standard'\n",
    "    else:\n",
    "        return 'Good'"
   ]
  },
  {
   "cell_type": "code",
   "execution_count": 43,
   "metadata": {},
   "outputs": [],
   "source": [
    "aggregated_credit_data['Final_Credit_Score'] = aggregated_credit_data['Credit_Score_Encoded'].apply(classify_credit_score)"
   ]
  },
  {
   "cell_type": "code",
   "execution_count": 44,
   "metadata": {},
   "outputs": [
    {
     "data": {
      "text/html": [
       "<div>\n",
       "<style scoped>\n",
       "    .dataframe tbody tr th:only-of-type {\n",
       "        vertical-align: middle;\n",
       "    }\n",
       "\n",
       "    .dataframe tbody tr th {\n",
       "        vertical-align: top;\n",
       "    }\n",
       "\n",
       "    .dataframe thead th {\n",
       "        text-align: right;\n",
       "    }\n",
       "</style>\n",
       "<table border=\"1\" class=\"dataframe\">\n",
       "  <thead>\n",
       "    <tr style=\"text-align: right;\">\n",
       "      <th></th>\n",
       "      <th>Customer_ID</th>\n",
       "      <th>Credit_Score_Encoded</th>\n",
       "      <th>Final_Credit_Score</th>\n",
       "    </tr>\n",
       "  </thead>\n",
       "  <tbody>\n",
       "    <tr>\n",
       "      <th>0</th>\n",
       "      <td>CUS_0x1000</td>\n",
       "      <td>1.125</td>\n",
       "      <td>Poor</td>\n",
       "    </tr>\n",
       "    <tr>\n",
       "      <th>1</th>\n",
       "      <td>CUS_0x1009</td>\n",
       "      <td>2.000</td>\n",
       "      <td>Standard</td>\n",
       "    </tr>\n",
       "    <tr>\n",
       "      <th>2</th>\n",
       "      <td>CUS_0x100b</td>\n",
       "      <td>1.375</td>\n",
       "      <td>Poor</td>\n",
       "    </tr>\n",
       "    <tr>\n",
       "      <th>3</th>\n",
       "      <td>CUS_0x1011</td>\n",
       "      <td>2.000</td>\n",
       "      <td>Standard</td>\n",
       "    </tr>\n",
       "    <tr>\n",
       "      <th>4</th>\n",
       "      <td>CUS_0x1013</td>\n",
       "      <td>2.000</td>\n",
       "      <td>Standard</td>\n",
       "    </tr>\n",
       "  </tbody>\n",
       "</table>\n",
       "</div>"
      ],
      "text/plain": [
       "  Customer_ID  Credit_Score_Encoded Final_Credit_Score\n",
       "0  CUS_0x1000                 1.125               Poor\n",
       "1  CUS_0x1009                 2.000           Standard\n",
       "2  CUS_0x100b                 1.375               Poor\n",
       "3  CUS_0x1011                 2.000           Standard\n",
       "4  CUS_0x1013                 2.000           Standard"
      ]
     },
     "execution_count": 44,
     "metadata": {},
     "output_type": "execute_result"
    }
   ],
   "source": [
    "aggregated_credit_data.head()"
   ]
  },
  {
   "cell_type": "markdown",
   "metadata": {},
   "source": [
    "#### The final dataset for the task\n",
    "> In this task, we opted to work with an aggregated dataset. By averaging varying numerical features like 'Monthly_Spend,' we ensure the dataset is clear and easier to handle. However, one drawback of this approach is that aggregating the varying features results in the loss of temporal information. Since each user has 8 rows in the dataset, representing data from January to August, aggregation removes detailed insights into trends or shifts over time."
   ]
  },
  {
   "cell_type": "code",
   "execution_count": 45,
   "metadata": {},
   "outputs": [],
   "source": [
    "aggregated_constant_data = dataset_cpy[constant_numerical_features]"
   ]
  },
  {
   "cell_type": "code",
   "execution_count": 46,
   "metadata": {},
   "outputs": [],
   "source": [
    "temp_merged = pd.merge(aggregated_varying_data, aggregated_credit_data, on='Customer_ID', how='inner')"
   ]
  },
  {
   "cell_type": "code",
   "execution_count": 47,
   "metadata": {},
   "outputs": [],
   "source": [
    "unique_ones = aggregated_constant_data.groupby('Customer_ID').first().reset_index()"
   ]
  },
  {
   "cell_type": "code",
   "execution_count": 48,
   "metadata": {},
   "outputs": [],
   "source": [
    "final_dataset = pd.merge(unique_ones, temp_merged, on='Customer_ID', how='inner')"
   ]
  },
  {
   "cell_type": "code",
   "execution_count": 49,
   "metadata": {},
   "outputs": [
    {
     "data": {
      "text/html": [
       "<div>\n",
       "<style scoped>\n",
       "    .dataframe tbody tr th:only-of-type {\n",
       "        vertical-align: middle;\n",
       "    }\n",
       "\n",
       "    .dataframe tbody tr th {\n",
       "        vertical-align: top;\n",
       "    }\n",
       "\n",
       "    .dataframe thead th {\n",
       "        text-align: right;\n",
       "    }\n",
       "</style>\n",
       "<table border=\"1\" class=\"dataframe\">\n",
       "  <thead>\n",
       "    <tr style=\"text-align: right;\">\n",
       "      <th></th>\n",
       "      <th>Customer_ID</th>\n",
       "      <th>Age</th>\n",
       "      <th>Occupation</th>\n",
       "      <th>Annual_Income</th>\n",
       "      <th>Monthly_Inhand_Salary</th>\n",
       "      <th>Num_Bank_Accounts</th>\n",
       "      <th>Num_Credit_Card</th>\n",
       "      <th>Interest_Rate</th>\n",
       "      <th>Num_of_Loan</th>\n",
       "      <th>Type_of_Loan</th>\n",
       "      <th>...</th>\n",
       "      <th>Payment_of_Min_Amount</th>\n",
       "      <th>Delay_from_due_date</th>\n",
       "      <th>Num_of_Delayed_Payment</th>\n",
       "      <th>Changed_Credit_Limit</th>\n",
       "      <th>Credit_Utilization_Ratio</th>\n",
       "      <th>Credit_History_Age</th>\n",
       "      <th>Amount_invested_monthly</th>\n",
       "      <th>Monthly_Balance</th>\n",
       "      <th>Credit_Score_Encoded</th>\n",
       "      <th>Final_Credit_Score</th>\n",
       "    </tr>\n",
       "  </thead>\n",
       "  <tbody>\n",
       "    <tr>\n",
       "      <th>0</th>\n",
       "      <td>CUS_0x1000</td>\n",
       "      <td>17.0</td>\n",
       "      <td>Lawyer</td>\n",
       "      <td>3062594</td>\n",
       "      <td>2706.161667</td>\n",
       "      <td>6</td>\n",
       "      <td>5</td>\n",
       "      <td>27</td>\n",
       "      <td>2</td>\n",
       "      <td>Credit-Builder Loan, and Home Equity Loan</td>\n",
       "      <td>...</td>\n",
       "      <td>Yes</td>\n",
       "      <td>62.25</td>\n",
       "      <td>25.0</td>\n",
       "      <td>188.0</td>\n",
       "      <td>33.477546</td>\n",
       "      <td>125.5</td>\n",
       "      <td>158.549735</td>\n",
       "      <td>335.375341</td>\n",
       "      <td>1.125</td>\n",
       "      <td>Poor</td>\n",
       "    </tr>\n",
       "  </tbody>\n",
       "</table>\n",
       "<p>1 rows × 24 columns</p>\n",
       "</div>"
      ],
      "text/plain": [
       "  Customer_ID   Age Occupation  Annual_Income  Monthly_Inhand_Salary  \\\n",
       "0  CUS_0x1000  17.0     Lawyer        3062594            2706.161667   \n",
       "\n",
       "   Num_Bank_Accounts  Num_Credit_Card  Interest_Rate  Num_of_Loan  \\\n",
       "0                  6                5             27            2   \n",
       "\n",
       "                                Type_of_Loan  ...  Payment_of_Min_Amount  \\\n",
       "0  Credit-Builder Loan, and Home Equity Loan  ...                    Yes   \n",
       "\n",
       "   Delay_from_due_date  Num_of_Delayed_Payment Changed_Credit_Limit  \\\n",
       "0                62.25                    25.0                188.0   \n",
       "\n",
       "  Credit_Utilization_Ratio  Credit_History_Age  Amount_invested_monthly  \\\n",
       "0                33.477546               125.5               158.549735   \n",
       "\n",
       "   Monthly_Balance  Credit_Score_Encoded  Final_Credit_Score  \n",
       "0       335.375341                 1.125                Poor  \n",
       "\n",
       "[1 rows x 24 columns]"
      ]
     },
     "execution_count": 49,
     "metadata": {},
     "output_type": "execute_result"
    }
   ],
   "source": [
    "final_dataset.head(1)"
   ]
  },
  {
   "cell_type": "markdown",
   "metadata": {},
   "source": [
    "### Exploratory Data Analysis\n",
    "#### What are the distributions of key financial variables (Annual_Income, Monthly_Inhand_Salary, Outstanding_Debt, and Monthly_Balance)?\n",
    "##### Annual_Income"
   ]
  },
  {
   "cell_type": "code",
   "execution_count": 56,
   "metadata": {},
   "outputs": [
    {
     "data": {
      "image/png": "[encoded data removed]",
      "text/plain": [
       "<Figure size 1000x400 with 1 Axes>"
      ]
     },
     "metadata": {},
     "output_type": "display_data"
    }
   ],
   "source": [
    "# Annual_Income\n",
    "plt.figure(figsize=(10, 4))\n",
    "sns.histplot(final_dataset['Annual_Income'], kde=True, bins=30, color='blue')\n",
    "plt.title('Distribution of Annual Income')\n",
    "plt.xlabel('Annual Income')\n",
    "plt.ylabel('Frequency')\n",
    "plt.show()"
   ]
  },
  {
   "cell_type": "markdown",
   "metadata": {},
   "source": [
    "> There are customer with unrealistic 'Annual_Income' like 11378138999999998, which could be due to wrong data entry. We decide to discard these rows from the dataset!"
   ]
  },
  {
   "cell_type": "code",
   "execution_count": 57,
   "metadata": {},
   "outputs": [],
   "source": [
    "Q1 = final_dataset['Annual_Income'].quantile(0.25)\n",
    "Q2 = final_dataset['Annual_Income'].quantile(0.75)\n",
    "IQR = Q2 - Q1\n",
    "\n",
    "# Outlier range\n",
    "lower_bound = Q1 - 1.5 * IQR\n",
    "upper_bound = Q2 + 1.5 * IQR\n",
    "\n",
    "# Filtering out outliers\n",
    "filtered_dataset = final_dataset[(final_dataset['Annual_Income'] >= lower_bound) &\n",
    "                                 (final_dataset['Annual_Income'] <= upper_bound)]"
   ]
  },
  {
   "cell_type": "code",
   "execution_count": 61,
   "metadata": {},
   "outputs": [
    {
     "data": {
      "image/png": "[encoded data removed]",
      "text/plain": [
       "<Figure size 1000x400 with 1 Axes>"
      ]
     },
     "metadata": {},
     "output_type": "display_data"
    }
   ],
   "source": [
    "# Annual_Income\n",
    "plt.figure(figsize=(10, 4))\n",
    "sns.histplot(filtered_dataset['Annual_Income'], kde=True, bins=30, color='blue')\n",
    "plt.title('Distribution of Annual Income')\n",
    "plt.xlabel('Annual Income')\n",
    "plt.ylabel('Frequency')\n",
    "plt.show()"
   ]
  },
  {
   "cell_type": "code",
   "execution_count": 69,
   "metadata": {},
   "outputs": [
    {
     "data": {
      "image/png": "[encoded data removed]",
      "text/plain": [
       "<Figure size 1000x300 with 1 Axes>"
      ]
     },
     "metadata": {},
     "output_type": "display_data"
    }
   ],
   "source": [
    "plt.figure(figsize=(10, 3))\n",
    "sns.boxplot(x=filtered_dataset['Annual_Income'], color='orange')\n",
    "plt.title('Boxplot of Annual Income')\n",
    "plt.xlabel('Annual Income')\n",
    "plt.show()"
   ]
  },
  {
   "cell_type": "markdown",
   "metadata": {},
   "source": [
    "> **Q1** =  About 25% of the Annual_Income values are below 20% (0.20 in scaled terms). This indicates the lower boundary of \"typical\" income levels!  \n",
    "**Q2** = aligns closely with the median value of the feature. This means half of the data lies below approximately 30% on the scaled x-axis!  \n",
    "**Q3** = suggests that 75% of the data is below 75% (scaled). This is where higher incomes become more frequent within the dataset!  \n",
    "**Outliers** Observations significantly higher than Q3 (beyond the \"whiskers\" of the boxplot) represent the extreme income values, which include those around 17.7 million. These outliers extend far beyond the main bulk of data.\n",
    "\n",
    "##### Monthly_Inhand_Salary"
   ]
  },
  {
   "cell_type": "code",
   "execution_count": 72,
   "metadata": {},
   "outputs": [
    {
     "data": {
      "image/png": "[encoded data removed]",
      "text/plain": [
       "<Figure size 1000x400 with 1 Axes>"
      ]
     },
     "metadata": {},
     "output_type": "display_data"
    }
   ],
   "source": [
    "plt.figure(figsize=(10, 4))\n",
    "sns.histplot(x=filtered_dataset['Monthly_Inhand_Salary'], kde=True, bins=30, color='green')\n",
    "plt.title('Distribution of Monthly_Inhand_Salary')\n",
    "plt.xlabel('Monthly_Inhand_Salary')\n",
    "plt.ylabel('Frequency')\n",
    "plt.show()"
   ]
  },
  {
   "cell_type": "code",
   "execution_count": 73,
   "metadata": {},
   "outputs": [
    {
     "data": {
      "image/png": "[encoded data removed]",
      "text/plain": [
       "<Figure size 1000x300 with 1 Axes>"
      ]
     },
     "metadata": {},
     "output_type": "display_data"
    }
   ],
   "source": [
    "plt.figure(figsize=(10, 3))\n",
    "sns.boxplot(x=filtered_dataset['Monthly_Inhand_Salary'], color='green')\n",
    "plt.title('Boxplot of Monthly_Inhand_Salary')\n",
    "plt.xlabel('Monthly_Inhand_Salary')\n",
    "plt.show()"
   ]
  },
  {
   "cell_type": "markdown",
   "metadata": {},
   "source": [
    "> The first quartile (Q1) is approximately $1,800, suggesting that 25% of the individuals earn less than this amount. The median (Q2) of $3,000 represents the central tendency, showing that half of the individuals earn $3,000 or less. The third quartile (Q3) of $6,000 highlights that 75% of the data lies below this value, with the upper 25% comprising higher earners. Outliers, ranging from $12,200 to $16,000, represent individuals with significantly higher in-hand salaries that deviate from the typical pattern.\n",
    "\n",
    "##### Outstanding_Debt"
   ]
  },
  {
   "cell_type": "markdown",
   "metadata": {},
   "source": []
  }
 ],
 "metadata": {
  "kernelspec": {
   "display_name": "Python 3",
   "language": "python",
   "name": "python3"
  },
  "language_info": {
   "codemirror_mode": {
    "name": "ipython",
    "version": 3
   },
   "file_extension": ".py",
   "mimetype": "text/x-python",
   "name": "python",
   "nbconvert_exporter": "python",
   "pygments_lexer": "ipython3",
   "version": "3.12.2"
  }
 },
 "nbformat": 4,
 "nbformat_minor": 2
}
